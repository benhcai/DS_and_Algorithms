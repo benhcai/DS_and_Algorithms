{
 "cells": [
  {
   "cell_type": "code",
   "execution_count": 66,
   "id": "d021c13f-43fc-49e1-9988-464d50f9925f",
   "metadata": {},
   "outputs": [],
   "source": [
    "def top_sort(graph):\n",
    "    stack = []\n",
    "\n",
    "    grey = set()\n",
    "    black = set()\n",
    "\n",
    "    def dfs(vertex):\n",
    "        grey.add(vertex)\n",
    "        path.append(vertex)\n",
    "        print(vertex, path, grey)\n",
    "        for neighbour in graph[vertex]:\n",
    "            if neighbour in grey:\n",
    "                print(\"cycle\")\n",
    "            else:\n",
    "                dfs(neighbour)\n",
    "        if len(graph[vertex]) == 0:\n",
    "            print('adding path')\n",
    "            stack.append(path[::])\n",
    "        grey.remove(vertex)\n",
    "        black.add(vertex)\n",
    "        path.pop()\n",
    "    \n",
    "    for vertex in graph:\n",
    "        path = []\n",
    "        if vertex not in black:\n",
    "            dfs(vertex)\n",
    "            \n",
    "    \n",
    "    return stack"
   ]
  },
  {
   "cell_type": "code",
   "execution_count": 7,
   "id": "10df27bc-d078-461e-87bb-f3a09b09d36c",
   "metadata": {},
   "outputs": [],
   "source": [
    "def create_graph(prereqs, verts):\n",
    "    graph = {x: [] for x in range(verts)}\n",
    "    for pre, child in prereqs:\n",
    "        graph[pre].append(child)\n",
    "    return graph"
   ]
  },
  {
   "cell_type": "code",
   "execution_count": 70,
   "id": "304bdb7c-c242-497e-8542-03fc273008b6",
   "metadata": {},
   "outputs": [
    {
     "name": "stdout",
     "output_type": "stream",
     "text": [
      "{0: [1, 2], 1: [3], 2: [3], 3: [4], 4: [], 5: [6], 6: []}\n"
     ]
    }
   ],
   "source": [
    "graph = [\n",
    "    [0,1],\n",
    "    [0,2],\n",
    "    [1,3],\n",
    "    [2,3],\n",
    "    [3,4],\n",
    "    [5,6]\n",
    "]\n",
    "g = create_graph(graph, 7)\n",
    "print(g)"
   ]
  },
  {
   "cell_type": "code",
   "execution_count": 71,
   "id": "14e4d634-5981-4bbf-9068-a87bd6444661",
   "metadata": {},
   "outputs": [
    {
     "name": "stdout",
     "output_type": "stream",
     "text": [
      "0 [0] {0}\n",
      "1 [0, 1] {0, 1}\n",
      "3 [0, 1, 3] {0, 1, 3}\n",
      "4 [0, 1, 3, 4] {0, 1, 3, 4}\n",
      "adding path\n",
      "2 [0, 2] {0, 2}\n",
      "3 [0, 2, 3] {0, 2, 3}\n",
      "4 [0, 2, 3, 4] {0, 2, 3, 4}\n",
      "adding path\n",
      "5 [5] {5}\n",
      "6 [5, 6] {5, 6}\n",
      "adding path\n"
     ]
    },
    {
     "data": {
      "text/plain": [
       "[[0, 1, 3, 4], [0, 2, 3, 4], [5, 6]]"
      ]
     },
     "execution_count": 71,
     "metadata": {},
     "output_type": "execute_result"
    }
   ],
   "source": [
    "top_sort(g)"
   ]
  }
 ],
 "metadata": {
  "kernelspec": {
   "display_name": "Python 3 (ipykernel)",
   "language": "python",
   "name": "python3"
  },
  "language_info": {
   "codemirror_mode": {
    "name": "ipython",
    "version": 3
   },
   "file_extension": ".py",
   "mimetype": "text/x-python",
   "name": "python",
   "nbconvert_exporter": "python",
   "pygments_lexer": "ipython3",
   "version": "3.10.5"
  }
 },
 "nbformat": 4,
 "nbformat_minor": 5
}
