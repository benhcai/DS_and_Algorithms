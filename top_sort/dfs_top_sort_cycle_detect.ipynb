{
 "cells": [
  {
   "cell_type": "code",
   "execution_count": 59,
   "id": "cd489f43-7579-49a2-9d2d-06e90a85a7c4",
   "metadata": {},
   "outputs": [],
   "source": [
    "def top_sort(graph):\n",
    "    stack = []\n",
    "    black = set()\n",
    "    grey = set()\n",
    "\n",
    "    def dfs(vertex):\n",
    "        grey.add(vertex)\n",
    "        for neighbour in graph[vertex]:\n",
    "            if neighbour in grey:\n",
    "                print(\"cycle\", vertex, neighbour, stack)\n",
    "                return True\n",
    "            if neighbour not in black:\n",
    "                hasCycle = dfs(neighbour)\n",
    "                if hasCycle:\n",
    "                    return True\n",
    "        black.add(vertex)\n",
    "        grey.remove(vertex)\n",
    "        stack.append(vertex)\n",
    "        return False\n",
    "    \n",
    "    for vertex in graph:\n",
    "        if vertex not in black:\n",
    "            hasCycle = dfs(vertex)\n",
    "            if hasCycle:\n",
    "                return []\n",
    "            \n",
    "    ordering = stack[::-1]\n",
    "    return ordering"
   ]
  },
  {
   "cell_type": "code",
   "execution_count": 65,
   "id": "d45cf033-c6a4-4ce1-b866-b3b535e3705c",
   "metadata": {},
   "outputs": [],
   "source": [
    "def top_sort(graph):\n",
    "    stack = []\n",
    "    # The black color marks vertexes whose paths are completed,\n",
    "    # this acts as an optimization to prevent re-traversing paths.\n",
    "    black = set()\n",
    "    \n",
    "    # The grey color marks vertexes in the current path,\n",
    "    # encountering one means a cycle.\n",
    "    grey = set()\n",
    "\n",
    "    def dfs(vertex):\n",
    "        grey.add(vertex)\n",
    "        for neighbour in graph[vertex]:\n",
    "            if neighbour in grey:\n",
    "                print(\"cycle\", vertex, neighbour, stack)\n",
    "                return True\n",
    "            if neighbour in black:\n",
    "                print(\"black\", vertex, neighbour)\n",
    "            if neighbour not in black:\n",
    "                hasCycle = dfs(neighbour)\n",
    "                if hasCycle:\n",
    "                    return True\n",
    "        black.add(vertex)\n",
    "        grey.remove(vertex)\n",
    "        stack.append(vertex)\n",
    "        print(vertex)\n",
    "        return False\n",
    "\n",
    "    # This catches disconnected vertexes\n",
    "    for vertex in graph:\n",
    "        if vertex not in black:\n",
    "            hasCycle = dfs(vertex)\n",
    "            if hasCycle:\n",
    "                return []\n",
    "\n",
    "    # Reverse the ordering to get the correct order\n",
    "    ordering = stack[::-1]\n",
    "    return ordering"
   ]
  },
  {
   "cell_type": "code",
   "execution_count": 2,
   "id": "10ed0079-92fd-4cf5-b694-2e079351233b",
   "metadata": {},
   "outputs": [],
   "source": [
    "def create_graph(prereqs, verts):\n",
    "    graph = {x: [] for x in range(verts)}\n",
    "    for pre, child in prereqs:\n",
    "        graph[pre].append(child)\n",
    "    return graph"
   ]
  },
  {
   "cell_type": "code",
   "execution_count": 77,
   "id": "9b4af22a-2a56-4357-a484-f5de2faf638a",
   "metadata": {},
   "outputs": [
    {
     "name": "stdout",
     "output_type": "stream",
     "text": [
      "{0: [], 1: [7], 2: [3], 3: [4], 4: [], 5: [1, 10], 6: [2], 7: [8], 8: [9], 9: [], 10: [7]}\n"
     ]
    }
   ],
   "source": [
    "# graph = [\n",
    "#     [0,1],\n",
    "#     [1,2],\n",
    "#     [2,3],\n",
    "#     [3,4],\n",
    "#     [0,5],\n",
    "#     [5,2],\n",
    "#     [6,7],\n",
    "#     [7,5]\n",
    "# ]\n",
    "# g = create_graph(graph, 8)\n",
    "# print(g)\n",
    "\n",
    "graph = [\n",
    "    [6,2],\n",
    "    [2,3],\n",
    "    [3,4],\n",
    "\n",
    "    [5,1],\n",
    "    [1,7],\n",
    "    [7,8],\n",
    "    [8,9],\n",
    "    [5,10],\n",
    "    [10,7],\n",
    "]\n",
    "g = create_graph(graph, 11)\n",
    "print(g)"
   ]
  },
  {
   "cell_type": "code",
   "execution_count": 78,
   "id": "c0aa608e-f2c2-49a6-9889-6c400f269b11",
   "metadata": {
    "scrolled": true
   },
   "outputs": [
    {
     "name": "stdout",
     "output_type": "stream",
     "text": [
      "0\n",
      "9\n",
      "8\n",
      "7\n",
      "1\n",
      "4\n",
      "3\n",
      "2\n",
      "black 5 1\n",
      "black 10 7\n",
      "10\n",
      "5\n",
      "black 6 2\n",
      "6\n"
     ]
    },
    {
     "data": {
      "text/plain": [
       "[6, 5, 10, 2, 3, 4, 1, 7, 8, 9, 0]"
      ]
     },
     "execution_count": 78,
     "metadata": {},
     "output_type": "execute_result"
    }
   ],
   "source": [
    "top_sort(g)"
   ]
  }
 ],
 "metadata": {
  "kernelspec": {
   "display_name": "Python 3 (ipykernel)",
   "language": "python",
   "name": "python3"
  },
  "language_info": {
   "codemirror_mode": {
    "name": "ipython",
    "version": 3
   },
   "file_extension": ".py",
   "mimetype": "text/x-python",
   "name": "python",
   "nbconvert_exporter": "python",
   "pygments_lexer": "ipython3",
   "version": "3.10.5"
  }
 },
 "nbformat": 4,
 "nbformat_minor": 5
}
