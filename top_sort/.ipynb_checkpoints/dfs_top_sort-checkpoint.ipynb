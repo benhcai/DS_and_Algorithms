{
 "cells": [
  {
   "cell_type": "code",
   "execution_count": 94,
   "id": "dd647563-e048-4a6c-8d09-5d96c58d1e46",
   "metadata": {},
   "outputs": [],
   "source": [
    "def top_sort(graph):\n",
    "    stack = []\n",
    "    visited = set()\n",
    "\n",
    "    def dfs(vertex):\n",
    "        visited.add(vertex)\n",
    "        for neighbour in graph[vertex]:\n",
    "            if neighbour in visited:\n",
    "                print(\"cycle\")\n",
    "            else:\n",
    "                dfs(neighbour)\n",
    "        stack.append(vertex)\n",
    "    \n",
    "    for vertex in graph:\n",
    "        if vertex not in visited:\n",
    "            dfs(vertex)\n",
    "            \n",
    "    ordering = stack[::-1]\n",
    "    return ordering"
   ]
  },
  {
   "cell_type": "code",
   "execution_count": 59,
   "id": "815a89bb-050b-492d-935c-005515137c84",
   "metadata": {},
   "outputs": [],
   "source": [
    "def create_graph(prereqs, verts):\n",
    "    graph = {x: [] for x in range(verts)}\n",
    "    for pre, child in prereqs:\n",
    "        graph[pre].append(child)\n",
    "    return graph"
   ]
  },
  {
   "cell_type": "code",
   "execution_count": 80,
   "id": "f6104aef-11ca-4936-a4ec-3437ec7d8a0b",
   "metadata": {},
   "outputs": [
    {
     "name": "stdout",
     "output_type": "stream",
     "text": [
      "{0: [1], 1: [2], 2: [3], 3: [4, 5], 4: [6], 5: [6], 6: [2]}\n"
     ]
    }
   ],
   "source": [
    "graph = [\n",
    "    [0,1],\n",
    "    [1,2],\n",
    "    [2,3],\n",
    "    [3,4],\n",
    "    [3,5],\n",
    "    [4,6],\n",
    "    [5,6],\n",
    "    [6,2],\n",
    "]\n",
    "g = create_graph(graph, 7)\n",
    "print(g)"
   ]
  },
  {
   "cell_type": "code",
   "execution_count": 93,
   "id": "4df95ac7-188e-4c92-8291-abc90aa18506",
   "metadata": {},
   "outputs": [
    {
     "name": "stdout",
     "output_type": "stream",
     "text": [
      "cycle\n",
      "cycle\n"
     ]
    },
    {
     "data": {
      "text/plain": [
       "[0, 1, 2, 3, 5, 4, 6]"
      ]
     },
     "execution_count": 93,
     "metadata": {},
     "output_type": "execute_result"
    }
   ],
   "source": [
    "top_sort(g)"
   ]
  }
 ],
 "metadata": {
  "kernelspec": {
   "display_name": "Python 3 (ipykernel)",
   "language": "python",
   "name": "python3"
  },
  "language_info": {
   "codemirror_mode": {
    "name": "ipython",
    "version": 3
   },
   "file_extension": ".py",
   "mimetype": "text/x-python",
   "name": "python",
   "nbconvert_exporter": "python",
   "pygments_lexer": "ipython3",
   "version": "3.10.5"
  }
 },
 "nbformat": 4,
 "nbformat_minor": 5
}
