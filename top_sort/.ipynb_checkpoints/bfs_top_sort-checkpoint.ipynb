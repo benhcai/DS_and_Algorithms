{
 "cells": [
  {
   "cell_type": "code",
   "execution_count": 37,
   "id": "abf237a6-1d3a-4ef1-8611-731aca7658a0",
   "metadata": {},
   "outputs": [],
   "source": [
    "from collections import deque\n",
    "\n",
    "def top_sort(prereqs, verts):\n",
    "    # setup graph\n",
    "    # setup indegrees\n",
    "\n",
    "    graph = create_adj_list(prereqs, verts)\n",
    "    indegrees = create_indegrees(prereqs, verts)\n",
    "    print(indegrees) # note with a cycle, the indegrees is too high\n",
    "\n",
    "    # using kahn's algorithm bfs top sort\n",
    "\n",
    "    # get the source node\n",
    "    sources = deque()\n",
    "    for node in indegrees:\n",
    "        if indegrees[node] == 0:\n",
    "            sources.append(node)\n",
    "\n",
    "    ordering = []\n",
    "    # decrement indegrees to get ordering\n",
    "    while sources:\n",
    "        el = sources.popleft()\n",
    "        ordering.append(el)\n",
    "        # decrement indegrees for current el\n",
    "        for child in graph[el]:\n",
    "            indegrees[child] -= 1\n",
    "            if indegrees[child] == 0:\n",
    "                sources.append(child)\n",
    "\n",
    "    # check for a cycle\n",
    "    if len(ordering) != verts:\n",
    "        # we run out of sources before traversing through all nodes\n",
    "        # thus, len(ordering) < num. verts\n",
    "        print(indegrees)\n",
    "        print(ordering)\n",
    "        return []\n",
    "\n",
    "    return ordering"
   ]
  },
  {
   "cell_type": "code",
   "execution_count": 19,
   "id": "da54977f-5803-41cd-bc37-3577ca28d6dd",
   "metadata": {},
   "outputs": [],
   "source": [
    "def create_adj_list(prereqs, verts):\n",
    "    adj_list = {x: [] for x in range(verts)}\n",
    "    for pre, child in prereqs:\n",
    "        adj_list[pre].append(child)\n",
    "    return adj_list\n",
    "\n",
    "def create_indegrees(prereqs, verts):\n",
    "    indegrees = {x: 0 for x in range(verts)}\n",
    "    for pre, child in prereqs:\n",
    "        indegrees[child] += 1\n",
    "    return indegrees\n",
    "    "
   ]
  },
  {
   "cell_type": "code",
   "execution_count": 23,
   "id": "304bdb7c-c242-497e-8542-03fc273008b6",
   "metadata": {},
   "outputs": [],
   "source": [
    "graph = [\n",
    "    [0,1],\n",
    "    [0,2],\n",
    "    [1,3],\n",
    "    [2,3],\n",
    "    [3,4],\n",
    "    [5,6],\n",
    "    [4,3],\n",
    "]"
   ]
  },
  {
   "cell_type": "code",
   "execution_count": 35,
   "id": "14e4d634-5981-4bbf-9068-a87bd6444661",
   "metadata": {},
   "outputs": [
    {
     "name": "stdout",
     "output_type": "stream",
     "text": [
      "{0: 0, 1: 1, 2: 1, 3: 3, 4: 1, 5: 0, 6: 1}\n",
      "{0: 0, 1: 0, 2: 0, 3: 1, 4: 1, 5: 0, 6: 0}\n",
      "[0, 5, 1, 2, 6]\n"
     ]
    },
    {
     "data": {
      "text/plain": [
       "[]"
      ]
     },
     "execution_count": 35,
     "metadata": {},
     "output_type": "execute_result"
    }
   ],
   "source": [
    "top_sort(graph, 7)"
   ]
  }
 ],
 "metadata": {
  "kernelspec": {
   "display_name": "Python 3 (ipykernel)",
   "language": "python",
   "name": "python3"
  },
  "language_info": {
   "codemirror_mode": {
    "name": "ipython",
    "version": 3
   },
   "file_extension": ".py",
   "mimetype": "text/x-python",
   "name": "python",
   "nbconvert_exporter": "python",
   "pygments_lexer": "ipython3",
   "version": "3.10.5"
  }
 },
 "nbformat": 4,
 "nbformat_minor": 5
}
