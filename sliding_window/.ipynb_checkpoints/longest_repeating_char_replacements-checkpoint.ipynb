{
 "cells": [
  {
   "cell_type": "code",
   "execution_count": 40,
   "id": "d1639a0e-4961-4fde-8a83-da53cdd1752c",
   "metadata": {},
   "outputs": [
    {
     "name": "stdout",
     "output_type": "stream",
     "text": [
      "0 0 0 a\n",
      "1 0 1 b\n",
      "2 0 2 b\n",
      "3 0 3 b\n",
      "4 1 4 a\n",
      "4 2 5 c\n",
      "4 3 6 d\n",
      "4 4 7 e\n",
      "4 5 8 e\n",
      "4 6 9 e\n",
      "4 6 10 e\n",
      "5 6 11 e\n",
      "6 7 12 f\n",
      "6 8 13 f\n",
      "6 9 14 f\n"
     ]
    },
    {
     "data": {
      "text/plain": [
       "6"
      ]
     },
     "execution_count": 40,
     "metadata": {},
     "output_type": "execute_result"
    }
   ],
   "source": [
    "def characterReplacement(s: str, k: int) -> int:\n",
    "    freq = defaultdict(int)\n",
    "    longest = 0\n",
    "    max_dist = 0\n",
    "    start = 0\n",
    "    for end, c in enumerate(s):\n",
    "        freq[c] += 1\n",
    "        longest = max(longest, freq[c])\n",
    "        if end - start + 1 - longest > k:\n",
    "            freq[s[start]] -= 1\n",
    "            start += 1\n",
    "        print(max_dist, start, end, s[end])\n",
    "        max_dist = end - start + 1\n",
    "    return max_dist\n",
    "\n",
    "characterReplacement(\"abbbacdeeeeefff\",1)"
   ]
  },
  {
   "cell_type": "code",
   "execution_count": 34,
   "id": "88caf636-d6f7-409e-8be4-306db1892bbf",
   "metadata": {},
   "outputs": [
    {
     "data": {
      "text/plain": [
       "3"
      ]
     },
     "execution_count": 34,
     "metadata": {},
     "output_type": "execute_result"
    }
   ],
   "source": [
    "from collections import defaultdict\n",
    "\n",
    "def map_max(map):\n",
    "    # highest = [\"\", 0]\n",
    "    # for key,val in map.items():\n",
    "    #     if val > highest[1]:\n",
    "    #         highest = [key, val]\n",
    "    # return highest\n",
    "    return max(map, key=map.get)\n",
    "\n",
    "def sum_excl(map, letter):\n",
    "    # count = 0\n",
    "    # for key,val in map.items():\n",
    "    #     if key != letter:\n",
    "    #         count += val\n",
    "    # return count\n",
    "    return sum(val for key,val in map.items() if key != letter)\n",
    "\n",
    "def sum_map(map):\n",
    "    # count = 0\n",
    "    # for key,val in map.items():\n",
    "    #     count += val\n",
    "    # return count\n",
    "    return sum(map.values())\n",
    "\n",
    "def sum_excl_highest(map):\n",
    "    highest = map_max(map)\n",
    "    sum = sum_excl(map, highest)\n",
    "    return sum\n",
    "\n",
    "\n",
    "def longest(string, k):\n",
    "    used = 0\n",
    "    map = {}\n",
    "    start = 0\n",
    "    longest = 0\n",
    "    for end, c in enumerate(string):\n",
    "        map[c] = map.get(c, 0) + 1\n",
    "\n",
    "        while sum_excl_highest(map) > k:\n",
    "            map[string[start]] -= 1\n",
    "            start += 1\n",
    "        sum = sum_map(map)\n",
    "        longest = max(longest, sum)\n",
    "            \n",
    "    return longest\n",
    "\n",
    "\n",
    "string=\"abccde\"\n",
    "k=1\n",
    "longest(string,k)"
   ]
  },
  {
   "cell_type": "code",
   "execution_count": 33,
   "id": "7125f5d2-54a6-436c-a70c-860a75adbd52",
   "metadata": {},
   "outputs": [
    {
     "data": {
      "text/plain": [
       "3"
      ]
     },
     "execution_count": 33,
     "metadata": {},
     "output_type": "execute_result"
    }
   ],
   "source": [
    "map_max({1: 100, 2: 20, 3: 300})"
   ]
  }
 ],
 "metadata": {
  "kernelspec": {
   "display_name": "Python 3 (ipykernel)",
   "language": "python",
   "name": "python3"
  },
  "language_info": {
   "codemirror_mode": {
    "name": "ipython",
    "version": 3
   },
   "file_extension": ".py",
   "mimetype": "text/x-python",
   "name": "python",
   "nbconvert_exporter": "python",
   "pygments_lexer": "ipython3",
   "version": "3.9.5"
  }
 },
 "nbformat": 4,
 "nbformat_minor": 5
}
