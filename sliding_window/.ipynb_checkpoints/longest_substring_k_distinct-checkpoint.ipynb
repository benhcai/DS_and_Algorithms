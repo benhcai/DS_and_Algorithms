{
 "cells": [
  {
   "cell_type": "code",
   "execution_count": 12,
   "id": "8e4e9f87-dcd1-489e-a0b7-a348079334e1",
   "metadata": {},
   "outputs": [
    {
     "data": {
      "text/plain": [
       "5"
      ]
     },
     "execution_count": 12,
     "metadata": {},
     "output_type": "execute_result"
    }
   ],
   "source": [
    "def longest(string, k):\n",
    "    chars = {}\n",
    "    start = 0\n",
    "    longest = 0\n",
    "    for end, c in enumerate(string):\n",
    "        if c not in chars:\n",
    "            chars[c] = 0\n",
    "        chars[c] += 1\n",
    "        while len(chars) > k:\n",
    "            chars[string[start]] -= 1\n",
    "            if chars[string[start]] == 0:\n",
    "                del chars[string[start]]\n",
    "            start += 1\n",
    "        longest = max(longest, end - start + 1)\n",
    "    return longest\n",
    "\n",
    "string = \"cbbebi\"\n",
    "k = 3\n",
    "longest(string, k)"
   ]
  }
 ],
 "metadata": {
  "kernelspec": {
   "display_name": "Python 3 (ipykernel)",
   "language": "python",
   "name": "python3"
  },
  "language_info": {
   "codemirror_mode": {
    "name": "ipython",
    "version": 3
   },
   "file_extension": ".py",
   "mimetype": "text/x-python",
   "name": "python",
   "nbconvert_exporter": "python",
   "pygments_lexer": "ipython3",
   "version": "3.9.5"
  }
 },
 "nbformat": 4,
 "nbformat_minor": 5
}
