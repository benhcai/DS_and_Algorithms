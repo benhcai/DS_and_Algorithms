{
 "cells": [
  {
   "cell_type": "code",
   "execution_count": 6,
   "id": "883b9dde-3a5c-446a-b4c2-ab097350b960",
   "metadata": {},
   "outputs": [
    {
     "name": "stdout",
     "output_type": "stream",
     "text": [
      "6\n"
     ]
    }
   ],
   "source": [
    "def ones(arr, k):\n",
    "    length = 0\n",
    "    freq = {0: 0, 1:0}\n",
    "    start = 0\n",
    "    for end, val, in enumerate(arr):\n",
    "        freq[val] += 1\n",
    "        while freq[0] > k:\n",
    "            freq[arr[start]] -= 1\n",
    "            start += 1\n",
    "        length = max(length, freq[1] + freq[0])\n",
    "    return length\n",
    "\n",
    "arr = [0, 1, 1, 0, 0, 0, 1, 1, 0, 1, 1]\n",
    "k=2\n",
    "print(ones(arr,k))"
   ]
  },
  {
   "cell_type": "code",
   "execution_count": null,
   "id": "cf5172dd-8a5f-4af2-9847-37c3ddad967b",
   "metadata": {},
   "outputs": [],
   "source": []
  }
 ],
 "metadata": {
  "kernelspec": {
   "display_name": "Python 3 (ipykernel)",
   "language": "python",
   "name": "python3"
  },
  "language_info": {
   "codemirror_mode": {
    "name": "ipython",
    "version": 3
   },
   "file_extension": ".py",
   "mimetype": "text/x-python",
   "name": "python",
   "nbconvert_exporter": "python",
   "pygments_lexer": "ipython3",
   "version": "3.10.5"
  }
 },
 "nbformat": 4,
 "nbformat_minor": 5
}
