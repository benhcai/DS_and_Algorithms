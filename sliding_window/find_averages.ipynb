{
 "cells": [
  {
   "cell_type": "code",
   "execution_count": 4,
   "id": "baed9ed7-baa2-47f8-99f6-91689749d22e",
   "metadata": {},
   "outputs": [
    {
     "data": {
      "text/plain": [
       "[2.2, 2.8, 2.4, 3.6, 2.8]"
      ]
     },
     "execution_count": 4,
     "metadata": {},
     "output_type": "execute_result"
    }
   ],
   "source": [
    "def findAvgs(k, arr):\n",
    "    result = []\n",
    "    windowSum, windowStart = 0.0, 0\n",
    "    for windowEnd in range(len(arr)):\n",
    "        windowSum += arr[windowEnd]\n",
    "        if windowEnd >= k-1:\n",
    "            result.append(windowSum / k)\n",
    "            windowSum -= arr[windowStart]\n",
    "            windowStart += 1\n",
    "    return result\n",
    "\n",
    "findAvgs(5, [1, 3, 2, 6, -1, 4, 1, 8, 2])"
   ]
  },
  {
   "cell_type": "code",
   "execution_count": 5,
   "id": "aede6196-29c3-447e-b7f7-62a037807b75",
   "metadata": {},
   "outputs": [
    {
     "data": {
      "text/plain": [
       "[2.2, 2.8, 2.4, 3.6, 2.8]"
      ]
     },
     "execution_count": 5,
     "metadata": {},
     "output_type": "execute_result"
    }
   ],
   "source": [
    "def avgs(k, arr):\n",
    "    result = []\n",
    "    windowSum = 0.0\n",
    "    windowStart = 0\n",
    "    for windowEnd in range(len(arr)):\n",
    "        windowSum += arr[windowEnd]\n",
    "        if windowEnd - windowStart == k-1:\n",
    "            result.append(windowStart / k)\n",
    "            windowSum -= arr[windowStart]\n",
    "            windowStart += 1\n",
    "    return result\n",
    "findAvgs(5, [1, 3, 2, 6, -1, 4, 1, 8, 2])"
   ]
  }
 ],
 "metadata": {
  "kernelspec": {
   "display_name": "Python 3 (ipykernel)",
   "language": "python",
   "name": "python3"
  },
  "language_info": {
   "codemirror_mode": {
    "name": "ipython",
    "version": 3
   },
   "file_extension": ".py",
   "mimetype": "text/x-python",
   "name": "python",
   "nbconvert_exporter": "python",
   "pygments_lexer": "ipython3",
   "version": "3.9.5"
  }
 },
 "nbformat": 4,
 "nbformat_minor": 5
}
