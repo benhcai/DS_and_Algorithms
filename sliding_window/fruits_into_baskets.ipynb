{
 "cells": [
  {
   "cell_type": "code",
   "execution_count": 9,
   "id": "17d05b11-848c-4687-840e-40cb09e25c1c",
   "metadata": {},
   "outputs": [
    {
     "data": {
      "text/plain": [
       "3"
      ]
     },
     "execution_count": 9,
     "metadata": {},
     "output_type": "execute_result"
    }
   ],
   "source": [
    "from collections import defaultdict\n",
    "from typing import List\n",
    "\n",
    "def totalFruit(self, fruits: List[int]) -> int:\n",
    "    basket = defaultdict(int)\n",
    "    max_items = 0\n",
    "    start = 0\n",
    "    for end, char in enumerate(fruits):\n",
    "        basket[char] += 1\n",
    "        while len(basket) > 2:\n",
    "            basket[fruits[start]] -= 1\n",
    "            if basket[fruits[start]] == 0:\n",
    "                del basket[fruits[start]]\n",
    "            start += 1\n",
    "        items = 0\n",
    "        for val in basket.values():\n",
    "            items += val\n",
    "        max_items = max(max_items, items)\n",
    "    return max_items\n",
    "\n",
    "fruit = ['A', 'B', 'C', 'A', 'C']\n",
    "baskets(fruit)"
   ]
  }
 ],
 "metadata": {
  "kernelspec": {
   "display_name": "Python 3 (ipykernel)",
   "language": "python",
   "name": "python3"
  },
  "language_info": {
   "codemirror_mode": {
    "name": "ipython",
    "version": 3
   },
   "file_extension": ".py",
   "mimetype": "text/x-python",
   "name": "python",
   "nbconvert_exporter": "python",
   "pygments_lexer": "ipython3",
   "version": "3.9.5"
  }
 },
 "nbformat": 4,
 "nbformat_minor": 5
}
