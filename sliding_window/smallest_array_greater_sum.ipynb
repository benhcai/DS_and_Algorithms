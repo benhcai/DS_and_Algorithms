{
 "cells": [
  {
   "cell_type": "code",
   "execution_count": 20,
   "id": "3c5d0a9e-c3cf-431c-876f-ba521eeb35b7",
   "metadata": {},
   "outputs": [
    {
     "data": {
      "text/plain": [
       "0"
      ]
     },
     "execution_count": 20,
     "metadata": {},
     "output_type": "execute_result"
    }
   ],
   "source": [
    "\n",
    "def find(nums, s):\n",
    "    min_size = float(\"inf\")\n",
    "    sum = 0\n",
    "    start = 0\n",
    "    for end in range(len(nums)):\n",
    "        sum += nums[end]\n",
    "        while sum >= s:\n",
    "            min_size = min(min_size, end - start + 1)\n",
    "            sum -= nums[start]\n",
    "            start += 1\n",
    "    return min_size if min_size != float(\"inf\") else 0\n",
    "    \n",
    "nums = [1, 1, 1, 1, 1]\n",
    "s = 11\n",
    "find(nums, s)"
   ]
  }
 ],
 "metadata": {
  "kernelspec": {
   "display_name": "Python 3 (ipykernel)",
   "language": "python",
   "name": "python3"
  },
  "language_info": {
   "codemirror_mode": {
    "name": "ipython",
    "version": 3
   },
   "file_extension": ".py",
   "mimetype": "text/x-python",
   "name": "python",
   "nbconvert_exporter": "python",
   "pygments_lexer": "ipython3",
   "version": "3.9.5"
  }
 },
 "nbformat": 4,
 "nbformat_minor": 5
}
