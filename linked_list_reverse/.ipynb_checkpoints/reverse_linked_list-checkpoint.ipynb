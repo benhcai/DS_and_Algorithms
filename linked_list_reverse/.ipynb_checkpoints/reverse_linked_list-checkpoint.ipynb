{
 "cells": [
  {
   "cell_type": "code",
   "execution_count": 1,
   "id": "7c415002-0165-4443-9eae-03442b426224",
   "metadata": {},
   "outputs": [],
   "source": [
    "def reverse_linked_list(head):\n",
    "    prev = None\n",
    "    curr = head\n",
    "    while curr is not None:\n",
    "        # save and update next\n",
    "        next = curr.next\n",
    "        curr.next = prev\n",
    "\n",
    "        # save and update curr\n",
    "        prev = curr\n",
    "        curr = next\n",
    "    return prev"
   ]
  },
  {
   "cell_type": "code",
   "execution_count": 2,
   "id": "2422ddd4-a597-4bd8-b8a5-151d0e9b7233",
   "metadata": {},
   "outputs": [],
   "source": [
    "class Node:\n",
    "    def __init__(self, value, next=None):\n",
    "        self.val = value\n",
    "        self.next = next"
   ]
  },
  {
   "cell_type": "code",
   "execution_count": 3,
   "id": "0b303f44-43c2-4f57-b887-d5ed4e2e082b",
   "metadata": {},
   "outputs": [],
   "source": [
    "def print_list(head):\n",
    "    temp = head\n",
    "    while temp is not None:\n",
    "        print(temp.val, end=\" \")  # Use temp.val to access the value\n",
    "        temp = temp.next\n",
    "    print()"
   ]
  },
  {
   "cell_type": "code",
   "execution_count": 4,
   "id": "9f5e8aa1-d730-43d6-9660-e5939bfdeaea",
   "metadata": {},
   "outputs": [],
   "source": [
    "head = Node(2)\n",
    "head.next = Node(4)\n",
    "head.next.next = Node(6)\n",
    "head.next.next.next = Node(8)\n",
    "head.next.next.next.next = Node(10)"
   ]
  },
  {
   "cell_type": "code",
   "execution_count": 5,
   "id": "2f4c3524-61ca-4a45-80ff-eed6408a029c",
   "metadata": {},
   "outputs": [
    {
     "name": "stdout",
     "output_type": "stream",
     "text": [
      "2 4 6 8 10 \n",
      "10 8 6 4 2 \n"
     ]
    }
   ],
   "source": [
    "print_list(head)\n",
    "reversed = reverse_linked_list(head)\n",
    "print_list(reversed)"
   ]
  }
 ],
 "metadata": {
  "kernelspec": {
   "display_name": "Python 3 (ipykernel)",
   "language": "python",
   "name": "python3"
  },
  "language_info": {
   "codemirror_mode": {
    "name": "ipython",
    "version": 3
   },
   "file_extension": ".py",
   "mimetype": "text/x-python",
   "name": "python",
   "nbconvert_exporter": "python",
   "pygments_lexer": "ipython3",
   "version": "3.9.5"
  }
 },
 "nbformat": 4,
 "nbformat_minor": 5
}
