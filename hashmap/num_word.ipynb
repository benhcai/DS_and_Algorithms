{
 "cells": [
  {
   "cell_type": "code",
   "execution_count": 18,
   "id": "bd2a8adb-2e2b-41f8-916c-509492c30995",
   "metadata": {},
   "outputs": [],
   "source": [
    "from collections import defaultdict\n",
    "\n",
    "def maxNumberOfBalloons(text: str, target: str) -> int:\n",
    "    # build relative amount required for letters\n",
    "    reqs = defaultdict(int)\n",
    "    for l in target:\n",
    "        reqs[l] += 1\n",
    "    \n",
    "    freqs = {l: 0 for l in reqs}\n",
    "    \n",
    "    for letter in text:\n",
    "        if letter in reqs:\n",
    "            freqs[letter] += 1\n",
    "\n",
    "    # Normalize based on req multipliers and store in freqs dict\n",
    "    for l, val in freqs.items():\n",
    "        freqs[l] = val // reqs[l]\n",
    "    \n",
    "    num = float(\"infinity\")\n",
    "    \n",
    "    for f in freqs.values():\n",
    "        num = min(num, f)\n",
    "\n",
    "    return num"
   ]
  },
  {
   "cell_type": "code",
   "execution_count": 19,
   "id": "d2d6e6f4-4b9b-4b47-a250-68e14c692452",
   "metadata": {},
   "outputs": [
    {
     "name": "stdout",
     "output_type": "stream",
     "text": [
      "0\n"
     ]
    }
   ],
   "source": [
    "target = \"ooggg\"\n",
    "text = \"oogg\"\n",
    "print(maxNumberOfBalloons(text, target))"
   ]
  },
  {
   "cell_type": "code",
   "execution_count": null,
   "id": "4f465b1f-8497-4193-ba52-b698fb607876",
   "metadata": {},
   "outputs": [],
   "source": []
  }
 ],
 "metadata": {
  "kernelspec": {
   "display_name": "Python 3 (ipykernel)",
   "language": "python",
   "name": "python3"
  },
  "language_info": {
   "codemirror_mode": {
    "name": "ipython",
    "version": 3
   },
   "file_extension": ".py",
   "mimetype": "text/x-python",
   "name": "python",
   "nbconvert_exporter": "python",
   "pygments_lexer": "ipython3",
   "version": "3.9.5"
  }
 },
 "nbformat": 4,
 "nbformat_minor": 5
}
