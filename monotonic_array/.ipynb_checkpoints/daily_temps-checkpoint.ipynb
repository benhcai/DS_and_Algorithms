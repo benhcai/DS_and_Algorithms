{
 "cells": [
  {
   "cell_type": "code",
   "execution_count": 5,
   "id": "741d0eca-a66e-4122-aa46-777e5c1e677a",
   "metadata": {},
   "outputs": [
    {
     "name": "stdout",
     "output_type": "stream",
     "text": [
      "[1, 1, 4, 2, 1, 1, 0, 0]\n"
     ]
    }
   ],
   "source": [
    "def next_warmer(temps):\n",
    "    # Use a decr monotonic array that tracks when they are displaced by a higher temp\n",
    "    stack: List[List[int]] = []\n",
    "    res: List[int] = [0] * len(temps)\n",
    "    \n",
    "    for i, temp in enumerate(temps):\n",
    "        while stack and temp > stack[-1][0]:\n",
    "            top_val, top_i = stack.pop()\n",
    "            res[top_i] = i - top_i\n",
    "        stack.append([temp, i])\n",
    "\n",
    "    return res\n",
    "\n",
    "\n",
    "temperatures = [70, 73, 75, 71, 69, 72, 76, 73]\n",
    "print(next_warmer(temperatures))"
   ]
  }
 ],
 "metadata": {
  "kernelspec": {
   "display_name": "Python 3 (ipykernel)",
   "language": "python",
   "name": "python3"
  },
  "language_info": {
   "codemirror_mode": {
    "name": "ipython",
    "version": 3
   },
   "file_extension": ".py",
   "mimetype": "text/x-python",
   "name": "python",
   "nbconvert_exporter": "python",
   "pygments_lexer": "ipython3",
   "version": "3.9.5"
  }
 },
 "nbformat": 4,
 "nbformat_minor": 5
}
