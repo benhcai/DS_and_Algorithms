{
 "cells": [
  {
   "cell_type": "code",
   "execution_count": 28,
   "id": "cb1bc1c5-e562-43fd-ae10-9cdaa48cdb9b",
   "metadata": {},
   "outputs": [
    {
     "name": "stdout",
     "output_type": "stream",
     "text": [
      "[6]\n",
      "[6, 7]\n",
      "[2]\n",
      "[1]\n",
      "[1, 4]\n",
      "[1, 4, 5]\n",
      "[1, 3]\n",
      "[1, 3, 7]\n",
      "None\n"
     ]
    }
   ],
   "source": [
    "def monotonic_incr(nums):\n",
    "    stack_incr = []\n",
    "\n",
    "    for num in nums:\n",
    "        while stack_incr and num < stack_incr[-1]:\n",
    "            stack_incr.pop()\n",
    "        stack_incr.append(num)\n",
    "        print(stack_incr)\n",
    "\n",
    "nums = [6,7,2,1,4,5,3,7]\n",
    "print(monotonic_incr(nums))"
   ]
  }
 ],
 "metadata": {
  "kernelspec": {
   "display_name": "Python 3 (ipykernel)",
   "language": "python",
   "name": "python3"
  },
  "language_info": {
   "codemirror_mode": {
    "name": "ipython",
    "version": 3
   },
   "file_extension": ".py",
   "mimetype": "text/x-python",
   "name": "python",
   "nbconvert_exporter": "python",
   "pygments_lexer": "ipython3",
   "version": "3.9.5"
  }
 },
 "nbformat": 4,
 "nbformat_minor": 5
}
