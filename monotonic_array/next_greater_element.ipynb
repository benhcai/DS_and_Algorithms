{
 "cells": [
  {
   "cell_type": "code",
   "execution_count": 1,
   "id": "b60cd636-1da5-4cc8-ae7c-1d04947effd1",
   "metadata": {},
   "outputs": [],
   "source": [
    "def next_greater(nums1, nums2):\n",
    "    stack, hashmap = [], {}\n",
    "\n",
    "    # monotonically decreasing stack\n",
    "    for num in nums2:\n",
    "        while stack and stack[-1] < num:\n",
    "            top = stack.pop()\n",
    "            hashmap[top] = num\n",
    "        stack.append(num)\n",
    "\n",
    "    res = []\n",
    "    for num in nums1:\n",
    "        if num in hashmap:\n",
    "            res.append(hashmap[num])\n",
    "        else:\n",
    "            res.append(-1)\n",
    "    return res"
   ]
  },
  {
   "cell_type": "code",
   "execution_count": 11,
   "id": "2cc350f8-a391-4ddc-b057-9e1998cdf8cf",
   "metadata": {},
   "outputs": [
    {
     "name": "stdout",
     "output_type": "stream",
     "text": [
      "[5, 4, 7]\n"
     ]
    }
   ],
   "source": [
    "nums1 = [4,2,6]\n",
    "nums2 = [6,2,1,4,5,3,7]\n",
    "print(n(nums1, nums2))"
   ]
  },
  {
   "cell_type": "code",
   "execution_count": 10,
   "id": "d52f7846-096d-413e-8d50-b807a067165e",
   "metadata": {},
   "outputs": [],
   "source": [
    "def monotonic_inc(nums1, nums2):\n",
    "    stack = []\n",
    "    greaters = {}\n",
    "\n",
    "    for num in nums2:\n",
    "        # The monotonically decreasing stack will always be sorted\n",
    "        # s.t. the higher items are smaller.\n",
    "        # If a new larger item comes along, all the items smaller than\n",
    "        # the new item will be removed and marked as\n",
    "        # having the new item be its next greatest element\n",
    "        while stack and stack[-1] < num:\n",
    "            top = stack.pop()\n",
    "            greaters[top] = num\n",
    "        stack.append(num)\n",
    "    res = [greaters.get(val, -1) for val in nums1]\n",
    "    return res"
   ]
  },
  {
   "cell_type": "code",
   "execution_count": null,
   "id": "02a152f5-0aaf-4730-a5a1-40c9735d733d",
   "metadata": {},
   "outputs": [],
   "source": [
    "nums1 = [4,2,6]\n",
    "nums2 = [6,2,1,4,5,3,7]\n",
    "print(monotonic_inc(nums1, nums2))"
   ]
  },
  {
   "cell_type": "code",
   "execution_count": 16,
   "id": "eadf5977-5fdf-4bdc-b562-4814d425d797",
   "metadata": {},
   "outputs": [],
   "source": [
    "def monotonic_dec(nums1, nums2):\n",
    "    stack = []\n",
    "    lessers = {}\n",
    "\n",
    "    for num in nums2:\n",
    "        # For a monotonically decreasing stack, the higher items\n",
    "        # are greater.\n",
    "        while stack and stack[-1] > num:\n",
    "            top = stack.pop()\n",
    "            lessers[top] = num\n",
    "        stack.append(num)\n",
    "    res = [lessers.get(val, -1) for val in nums1]\n",
    "    print(lessers)\n",
    "    return res"
   ]
  },
  {
   "cell_type": "code",
   "execution_count": 17,
   "id": "48bc97a5-7f0b-40d5-9ee4-8046c50090f1",
   "metadata": {},
   "outputs": [
    {
     "name": "stdout",
     "output_type": "stream",
     "text": [
      "{7: 2, 6: 2, 2: 1, 5: 3, 4: 3}\n",
      "[3, 1, 2]\n"
     ]
    }
   ],
   "source": [
    "nums1 = [4,2,6]\n",
    "nums2 = [6,7,2,1,4,5,3]\n",
    "print(monotonic_dec(nums1, nums2))"
   ]
  }
 ],
 "metadata": {
  "kernelspec": {
   "display_name": "Python 3 (ipykernel)",
   "language": "python",
   "name": "python3"
  },
  "language_info": {
   "codemirror_mode": {
    "name": "ipython",
    "version": 3
   },
   "file_extension": ".py",
   "mimetype": "text/x-python",
   "name": "python",
   "nbconvert_exporter": "python",
   "pygments_lexer": "ipython3",
   "version": "3.9.5"
  }
 },
 "nbformat": 4,
 "nbformat_minor": 5
}
