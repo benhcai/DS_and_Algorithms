{
 "cells": [
  {
   "cell_type": "code",
   "execution_count": 15,
   "id": "b60cd636-1da5-4cc8-ae7c-1d04947effd1",
   "metadata": {},
   "outputs": [],
   "source": [
    "def next_greater(nums1, nums2):\n",
    "    # Define a monotonically decreasing array\n",
    "    stack_decr = []\n",
    "    greaters = {}\n",
    "\n",
    "    for i, el in enumerate(nums2):\n",
    "        # The monotonically decreasing stack will always be sorted (via the popping)\n",
    "        # s.t. the topper items are smaller.\n",
    "        # If a new larger item comes along, all the items smaller than\n",
    "        # the new item will be removed and marked as\n",
    "        # having the new item be its next greatest element\n",
    "        while stack_decr and stack_decr[-1] < el:\n",
    "            top_val = stack_decr.pop()\n",
    "            greaters[top_val] = el\n",
    "            \n",
    "        stack_decr.append(el)\n",
    "\n",
    "    res = [greaters.get(k, -1) for k in nums1]\n",
    "    return res"
   ]
  },
  {
   "cell_type": "code",
   "execution_count": 5,
   "id": "2cc350f8-a391-4ddc-b057-9e1998cdf8cf",
   "metadata": {},
   "outputs": [
    {
     "name": "stdout",
     "output_type": "stream",
     "text": [
      "[5, 4, 7, -1]\n"
     ]
    }
   ],
   "source": [
    "nums1 = [4,2,6, 20]\n",
    "nums2 = [6,2,1,4,5,3,7]\n",
    "print(next_greater(nums1, nums2))"
   ]
  }
 ],
 "metadata": {
  "kernelspec": {
   "display_name": "Python 3 (ipykernel)",
   "language": "python",
   "name": "python3"
  },
  "language_info": {
   "codemirror_mode": {
    "name": "ipython",
    "version": 3
   },
   "file_extension": ".py",
   "mimetype": "text/x-python",
   "name": "python",
   "nbconvert_exporter": "python",
   "pygments_lexer": "ipython3",
   "version": "3.9.5"
  }
 },
 "nbformat": 4,
 "nbformat_minor": 5
}
