{
 "cells": [
  {
   "cell_type": "code",
   "execution_count": 12,
   "id": "4338a9ed-b045-45f1-a5b0-701c86e83277",
   "metadata": {},
   "outputs": [],
   "source": [
    "def monotonic_decr(nums):\n",
    "    stack_decr = []\n",
    "    for num in nums:\n",
    "        while stack_decr and num > stack_decr[-1]:\n",
    "            stack_decr.pop()\n",
    "        stack_decr.append(num)\n",
    "        print(stack_decr)"
   ]
  },
  {
   "cell_type": "code",
   "execution_count": 14,
   "id": "5c949066-e5f8-4719-992f-018bfdc8d379",
   "metadata": {},
   "outputs": [
    {
     "name": "stdout",
     "output_type": "stream",
     "text": [
      "[6]\n",
      "[6, 2]\n",
      "[6, 2, 1]\n",
      "[6, 4]\n",
      "[6, 5]\n",
      "[6, 5, 3]\n",
      "[7]\n",
      "None\n"
     ]
    }
   ],
   "source": [
    "nums = [6,2,1,4,5,3,7]\n",
    "print(monotonic_decr(nums))"
   ]
  }
 ],
 "metadata": {
  "kernelspec": {
   "display_name": "Python 3 (ipykernel)",
   "language": "python",
   "name": "python3"
  },
  "language_info": {
   "codemirror_mode": {
    "name": "ipython",
    "version": 3
   },
   "file_extension": ".py",
   "mimetype": "text/x-python",
   "name": "python",
   "nbconvert_exporter": "python",
   "pygments_lexer": "ipython3",
   "version": "3.9.5"
  }
 },
 "nbformat": 4,
 "nbformat_minor": 5
}
