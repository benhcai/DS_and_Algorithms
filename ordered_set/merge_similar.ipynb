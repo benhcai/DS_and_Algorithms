{
 "cells": [
  {
   "cell_type": "code",
   "execution_count": 14,
   "id": "30be7f79-7061-4bfd-ac79-cd049426c79b",
   "metadata": {},
   "outputs": [
    {
     "name": "stdout",
     "output_type": "stream",
     "text": [
      "[[1, 2]]\n",
      "[[1, 2], [7, 8]]\n",
      "[7, 8]\n",
      "[[1, 2], [4, 5]]\n",
      "[[1, 2], [4, 5], [10, 20]]\n",
      "[10, 20]\n",
      "[[1, 2], [4, 5], [5, 8]]\n",
      "[[1, 2], [4, 5], [5, 8], [7, 10]]\n",
      "None\n"
     ]
    }
   ],
   "source": []
  },
  {
   "cell_type": "code",
   "execution_count": 20,
   "id": "4cda7959-9e35-4c07-9525-719a042f72bd",
   "metadata": {},
   "outputs": [
    {
     "name": "stdout",
     "output_type": "stream",
     "text": [
      "[[1, 2], [2, 3], [4, 15], [5, 8], [7, 18], [9, 10], [10, 20]]\n"
     ]
    }
   ],
   "source": [
    "def merge_sim(nums1, num2):\n",
    "    merged = {}\n",
    "    for num in nums1:\n",
    "            if num[0] not in merged:\n",
    "                merged[num0[0]] = 0\n",
    "            merged[num[0]] += num[1]\n",
    "\n",
    "    for num in nums2:\n",
    "            if num[0] not in merged:\n",
    "                merged[num[0]] = 0\n",
    "            merged[num[0]] += num[1]\n",
    "\n",
    "    sorted_keys = sorted(merged)\n",
    "    res = [[k, merged[k]] for k in sorted_keys]\n",
    "    return res\n",
    "\n",
    "nums1 = [[1,2], [7,8], [4,5], [10,20], [5,8], [7,10]]\n",
    "nums2 = [[2,3], [4,10], [9,10]]\n",
    "\n",
    "print(merge_sim(nums1, nums2))"
   ]
  }
 ],
 "metadata": {
  "kernelspec": {
   "display_name": "Python 3 (ipykernel)",
   "language": "python",
   "name": "python3"
  },
  "language_info": {
   "codemirror_mode": {
    "name": "ipython",
    "version": 3
   },
   "file_extension": ".py",
   "mimetype": "text/x-python",
   "name": "python",
   "nbconvert_exporter": "python",
   "pygments_lexer": "ipython3",
   "version": "3.9.5"
  }
 },
 "nbformat": 4,
 "nbformat_minor": 5
}
