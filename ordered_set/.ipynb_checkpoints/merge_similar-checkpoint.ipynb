{
 "cells": [
  {
   "cell_type": "code",
   "execution_count": 13,
   "id": "bfb9be30-b4b0-42b2-9783-4f8028ec8a37",
   "metadata": {},
   "outputs": [
    {
     "name": "stdout",
     "output_type": "stream",
     "text": [
      "defaultdict(<class 'list'>, {1: [9, 0], 2: [1], 3: [2], 4: [3]})\n"
     ]
    }
   ],
   "source": [
    "\n",
    "from collections import defaultdict\n",
    "\n",
    "m = defaultdict(list)\n",
    "m[1].append(9)\n",
    "\n",
    "arr = [1,2,3,4]\n",
    "\n",
    "for i, el in enumerate(arr):\n",
    "    m[el].append(i)\n",
    "\n",
    "print(m)"
   ]
  }
 ],
 "metadata": {
  "kernelspec": {
   "display_name": "Python 3 (ipykernel)",
   "language": "python",
   "name": "python3"
  },
  "language_info": {
   "codemirror_mode": {
    "name": "ipython",
    "version": 3
   },
   "file_extension": ".py",
   "mimetype": "text/x-python",
   "name": "python",
   "nbconvert_exporter": "python",
   "pygments_lexer": "ipython3",
   "version": "3.10.5"
  }
 },
 "nbformat": 4,
 "nbformat_minor": 5
}
