{
 "cells": [
  {
   "cell_type": "code",
   "execution_count": 3,
   "id": "53188343-a61e-4fcc-be89-ddfe30ac1cc8",
   "metadata": {},
   "outputs": [
    {
     "data": {
      "text/plain": [
       "[[], [1], [2], [3], [1, 2], [1, 3], [2, 3], [1, 2, 3]]"
      ]
     },
     "execution_count": 3,
     "metadata": {},
     "output_type": "execute_result"
    }
   ],
   "source": [
    "from collections import deque\n",
    "\n",
    "def combs(nums):\n",
    "    res = []\n",
    "    q = deque()\n",
    "    q.append(([], 0))\n",
    "    while q:\n",
    "        curr, pos = q.popleft()\n",
    "        res.append(curr)\n",
    "        for i, num in enumerate(nums):\n",
    "            if i  >= pos:\n",
    "                q.append((curr + [num], i + 1))\n",
    "    return res\n",
    "\n",
    "combs([1,2,3])"
   ]
  }
 ],
 "metadata": {
  "kernelspec": {
   "display_name": "Python 3 (ipykernel)",
   "language": "python",
   "name": "python3"
  },
  "language_info": {
   "codemirror_mode": {
    "name": "ipython",
    "version": 3
   },
   "file_extension": ".py",
   "mimetype": "text/x-python",
   "name": "python",
   "nbconvert_exporter": "python",
   "pygments_lexer": "ipython3",
   "version": "3.10.5"
  }
 },
 "nbformat": 4,
 "nbformat_minor": 5
}
