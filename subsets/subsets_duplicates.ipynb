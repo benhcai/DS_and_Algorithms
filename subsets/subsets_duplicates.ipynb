{
 "cells": [
  {
   "cell_type": "code",
   "execution_count": 60,
   "id": "340141eb-6cd7-405c-86aa-3bfaacdb776c",
   "metadata": {},
   "outputs": [],
   "source": [
    "def combs_dup(nums):\n",
    "    nums = sorted(nums)\n",
    "    res = [[]]\n",
    "    prevStart = 0\n",
    "    prev = None\n",
    "    for el in nums:\n",
    "        n = len(res)\n",
    "        if el != prev:\n",
    "            prevStart = len(res)\n",
    "            for j in range(n):\n",
    "                new = res[j].copy()\n",
    "                new.append(el)\n",
    "                res.append(new)\n",
    "        else:\n",
    "            nextStart = len(res)\n",
    "            for j in range(prevStart, n):\n",
    "                new = res[j].copy()\n",
    "                new.append(el)\n",
    "                res.append(new)\n",
    "\n",
    "            prevStart = nextStart\n",
    "        prev = el\n",
    "    return res"
   ]
  },
  {
   "cell_type": "code",
   "execution_count": null,
   "id": "0f67fd19-8a2a-4626-b025-3256d44e2d47",
   "metadata": {},
   "outputs": [],
   "source": [
    "[1,1,3,3]\n",
    "\n",
    "[],\n",
    "[], [1],\n",
    "[], [1], [11]\n",
    "[], [1], [11"
   ]
  },
  {
   "cell_type": "code",
   "execution_count": 62,
   "id": "a1e67211-611c-4aad-bf2c-5ccf2bd3c342",
   "metadata": {},
   "outputs": [
    {
     "name": "stdout",
     "output_type": "stream",
     "text": [
      "Here is the list of subsets: [[], [1], [3], [1, 3], [3, 3], [1, 3, 3]]\n",
      "Here is the list of subsets: [[], [1], [3], [1, 3], [3, 3], [1, 3, 3], [5], [1, 5], [3, 5], [1, 3, 5], [3, 3, 5], [1, 3, 3, 5]]\n"
     ]
    }
   ],
   "source": [
    "class Solution:\n",
    "  def findSubsets(self, nums):\n",
    "    # sort the numbers to handle duplicates\n",
    "    list.sort(nums)\n",
    "    subsets = []\n",
    "    subsets.append([])\n",
    "    endIndex = 0\n",
    "    for i in range(len(nums)):\n",
    "      startIndex = 0\n",
    "      # if current and the previous elements are same, create new subsets only from the \n",
    "      # subsets added in the previous step\n",
    "      if i > 0 and nums[i] == nums[i - 1]:\n",
    "        startIndex = endIndex\n",
    "      endIndex = len(subsets)\n",
    "      for j in range(startIndex, endIndex):\n",
    "        # create a new subset from the existing subset and add the current element to it\n",
    "        set1 = list(subsets[j])\n",
    "        set1.append(nums[i])\n",
    "        subsets.append(set1)\n",
    "    return subsets\n",
    "\n",
    "\n",
    "def main():\n",
    "  sol = Solution()\n",
    "  print(\"Here is the list of subsets: \" + str(sol.findSubsets([1, 3, 3])))\n",
    "  print(\"Here is the list of subsets: \" + str(sol.findSubsets([1, 5, 3, 3])))\n",
    "\n",
    "\n",
    "main()\n"
   ]
  }
 ],
 "metadata": {
  "kernelspec": {
   "display_name": "Python 3 (ipykernel)",
   "language": "python",
   "name": "python3"
  },
  "language_info": {
   "codemirror_mode": {
    "name": "ipython",
    "version": 3
   },
   "file_extension": ".py",
   "mimetype": "text/x-python",
   "name": "python",
   "nbconvert_exporter": "python",
   "pygments_lexer": "ipython3",
   "version": "3.9.5"
  }
 },
 "nbformat": 4,
 "nbformat_minor": 5
}
