{
 "cells": [
  {
   "cell_type": "code",
   "execution_count": 12,
   "id": "4b4b5d1e-55fb-4932-a591-5a0f7c94244d",
   "metadata": {},
   "outputs": [
    {
     "data": {
      "text/plain": [
       "[[], [1], [5], [1, 5], [3], [1, 3], [5, 3], [1, 5, 3]]"
      ]
     },
     "execution_count": 12,
     "metadata": {},
     "output_type": "execute_result"
    }
   ],
   "source": [
    "def combs(nums):\n",
    "    res = [[]]\n",
    "    for el in nums:\n",
    "        n = len(res)\n",
    "        for i in range(n):\n",
    "            new = res[i][:]\n",
    "            new.append(el)\n",
    "            res.append(new)\n",
    "        \n",
    "    return res\n",
    "\n",
    "combs([1,5,3])"
   ]
  },
  {
   "cell_type": "code",
   "execution_count": 13,
   "id": "bff0fb41-1a37-454e-b938-c7a7fbe6c1c0",
   "metadata": {},
   "outputs": [
    {
     "data": {
      "text/plain": [
       "[[1, 5, 3], [5, 3], [1, 3], [3], [1, 5], [5], [1], []]"
      ]
     },
     "execution_count": 13,
     "metadata": {},
     "output_type": "execute_result"
    }
   ],
   "source": [
    "def combs(nums):\n",
    "    res = [[]]\n",
    "    for el in nums:\n",
    "        n = len(res)\n",
    "        for i in range(n):\n",
    "            copy = res[i][:]\n",
    "            res.append(copy)\n",
    "            res[i].append(el)\n",
    "        \n",
    "    return res\n",
    "\n",
    "combs([1,5,3])"
   ]
  },
  {
   "cell_type": "code",
   "execution_count": null,
   "id": "58a3b91f-5795-4a1a-8d8a-3acd8b67eafa",
   "metadata": {},
   "outputs": [],
   "source": [
    "[]\n",
    "[1], []\n",
    "[1,5],[],[1]\n",
    "[1,5],[5],[1],[]\n",
    "[1,5,3],[5,3],[1,3],[3],[1,5],[5],[1],[]"
   ]
  }
 ],
 "metadata": {
  "kernelspec": {
   "display_name": "Python 3 (ipykernel)",
   "language": "python",
   "name": "python3"
  },
  "language_info": {
   "codemirror_mode": {
    "name": "ipython",
    "version": 3
   },
   "file_extension": ".py",
   "mimetype": "text/x-python",
   "name": "python",
   "nbconvert_exporter": "python",
   "pygments_lexer": "ipython3",
   "version": "3.9.5"
  }
 },
 "nbformat": 4,
 "nbformat_minor": 5
}
