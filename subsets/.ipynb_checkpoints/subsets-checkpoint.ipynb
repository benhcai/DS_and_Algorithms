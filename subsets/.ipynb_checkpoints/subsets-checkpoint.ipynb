{
 "cells": [
  {
   "cell_type": "code",
   "execution_count": 8,
   "id": "4b4b5d1e-55fb-4932-a591-5a0f7c94244d",
   "metadata": {},
   "outputs": [
    {
     "data": {
      "text/plain": [
       "[[], [1], [5], [1, 5], [3], [1, 3], [5, 3], [1, 5, 3]]"
      ]
     },
     "execution_count": 8,
     "metadata": {},
     "output_type": "execute_result"
    }
   ],
   "source": [
    "def combs(nums):\n",
    "    res = [[]]\n",
    "    for el in nums:\n",
    "        n = len(res)\n",
    "        for i in range(n):\n",
    "            new = res[i][:]\n",
    "            new.append(el)\n",
    "            res.append(new)\n",
    "        \n",
    "    return res\n",
    "\n",
    "combs([1,5,3])"
   ]
  }
 ],
 "metadata": {
  "kernelspec": {
   "display_name": "Python 3 (ipykernel)",
   "language": "python",
   "name": "python3"
  },
  "language_info": {
   "codemirror_mode": {
    "name": "ipython",
    "version": 3
   },
   "file_extension": ".py",
   "mimetype": "text/x-python",
   "name": "python",
   "nbconvert_exporter": "python",
   "pygments_lexer": "ipython3",
   "version": "3.9.5"
  }
 },
 "nbformat": 4,
 "nbformat_minor": 5
}
