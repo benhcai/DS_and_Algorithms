{
 "cells": [
  {
   "cell_type": "code",
   "execution_count": 3,
   "id": "81a5c408-4b9b-4f28-8f7a-09b2c8d157c7",
   "metadata": {},
   "outputs": [
    {
     "data": {
      "text/plain": [
       "[[0, 1, 2], [0, 2, 1], [1, 0, 2], [1, 2, 0], [2, 0, 1], [2, 1, 0]]"
      ]
     },
     "execution_count": 3,
     "metadata": {},
     "output_type": "execute_result"
    }
   ],
   "source": [
    "from collections import deque\n",
    "def perms(nums):\n",
    "    res = []\n",
    "    q = deque()\n",
    "    q.append(([], set()))\n",
    "    while q:\n",
    "        curr, seen = q.popleft()\n",
    "        if len(curr) == len(nums):\n",
    "            res.append(curr)\n",
    "            continue\n",
    "        for i, num in enumerate(nums):\n",
    "            if i not in seen:\n",
    "                new_set = seen.copy()\n",
    "                new_set.add(i)\n",
    "                q.append((curr + [i], new_set))\n",
    "    return res\n",
    "\n",
    "perms([1,2,3])\n",
    "            "
   ]
  }
 ],
 "metadata": {
  "kernelspec": {
   "display_name": "Python 3 (ipykernel)",
   "language": "python",
   "name": "python3"
  },
  "language_info": {
   "codemirror_mode": {
    "name": "ipython",
    "version": 3
   },
   "file_extension": ".py",
   "mimetype": "text/x-python",
   "name": "python",
   "nbconvert_exporter": "python",
   "pygments_lexer": "ipython3",
   "version": "3.10.5"
  }
 },
 "nbformat": 4,
 "nbformat_minor": 5
}
