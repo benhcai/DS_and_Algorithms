{
 "cells": [
  {
   "cell_type": "code",
   "execution_count": 5,
   "id": "46f3f03c-b7f1-4e35-93c7-d48882293985",
   "metadata": {},
   "outputs": [
    {
     "data": {
      "text/plain": [
       "[[], [1], [2], [1, 2], [2, 2], [1, 2, 2]]"
      ]
     },
     "execution_count": 5,
     "metadata": {},
     "output_type": "execute_result"
    }
   ],
   "source": [
    "from collections import deque\n",
    "\n",
    "def combs_dups(nums):\n",
    "    nums.sort()\n",
    "    res = []\n",
    "    q = deque()\n",
    "    q.append(([], 0))\n",
    "    while q:\n",
    "        curr, pos = q.popleft()\n",
    "        res.append(curr)\n",
    "        prev = None\n",
    "        for i, num in enumerate(nums):\n",
    "            if prev == num:\n",
    "                continue\n",
    "            if i >= pos:\n",
    "                q.append((curr + [num], i + 1))\n",
    "                prev = num\n",
    "    return res\n",
    "\n",
    "\n",
    "combs_dups([1,2,2])"
   ]
  }
 ],
 "metadata": {
  "kernelspec": {
   "display_name": "Python 3 (ipykernel)",
   "language": "python",
   "name": "python3"
  },
  "language_info": {
   "codemirror_mode": {
    "name": "ipython",
    "version": 3
   },
   "file_extension": ".py",
   "mimetype": "text/x-python",
   "name": "python",
   "nbconvert_exporter": "python",
   "pygments_lexer": "ipython3",
   "version": "3.10.5"
  }
 },
 "nbformat": 4,
 "nbformat_minor": 5
}
