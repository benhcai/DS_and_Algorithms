{
 "cells": [
  {
   "cell_type": "code",
   "execution_count": 5,
   "id": "ae77508d-00f3-4100-8593-6de594edfc59",
   "metadata": {},
   "outputs": [
    {
     "data": {
      "text/plain": [
       "[[1, 2, 2, 3],\n",
       " [1, 2, 3, 2],\n",
       " [1, 3, 2, 2],\n",
       " [2, 1, 2, 3],\n",
       " [2, 1, 3, 2],\n",
       " [2, 2, 1, 3],\n",
       " [2, 2, 3, 1],\n",
       " [2, 3, 1, 2],\n",
       " [2, 3, 2, 1],\n",
       " [3, 1, 2, 2],\n",
       " [3, 2, 1, 2],\n",
       " [3, 2, 2, 1]]"
      ]
     },
     "execution_count": 5,
     "metadata": {},
     "output_type": "execute_result"
    }
   ],
   "source": [
    "from collections import deque\n",
    "def perms_dups(nums):\n",
    "    nums_sorted = sorted(nums)\n",
    "    res = []\n",
    "    q = deque()\n",
    "    q.append(([], nums_sorted))\n",
    "    while q:\n",
    "        curr, rem = q.popleft()\n",
    "        if len(rem) == 0:\n",
    "            res.append(curr)\n",
    "            continue\n",
    "        prev = None\n",
    "        for i, num in enumerate(rem):\n",
    "            if prev == num:\n",
    "                continue\n",
    "            new_rem = rem[:i] + rem[i+1:]\n",
    "            q.append((curr + [num], new_rem))\n",
    "            prev = num\n",
    "    return res\n",
    "\n",
    "perms_dups([1,2,3,2])"
   ]
  }
 ],
 "metadata": {
  "kernelspec": {
   "display_name": "Python 3 (ipykernel)",
   "language": "python",
   "name": "python3"
  },
  "language_info": {
   "codemirror_mode": {
    "name": "ipython",
    "version": 3
   },
   "file_extension": ".py",
   "mimetype": "text/x-python",
   "name": "python",
   "nbconvert_exporter": "python",
   "pygments_lexer": "ipython3",
   "version": "3.10.5"
  }
 },
 "nbformat": 4,
 "nbformat_minor": 5
}
