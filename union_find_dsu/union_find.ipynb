{
 "cells": [
  {
   "cell_type": "code",
   "execution_count": 2,
   "id": "eb07d548-4ef0-40a8-aa79-fa59f75870a7",
   "metadata": {},
   "outputs": [],
   "source": [
    "class Solution:\n",
    "    def __init__(self, n):\n",
    "        self.rank = [1] * n\n",
    "        self.parent = [i for i in range(n)]\n",
    "\n",
    "    # path compression\n",
    "    def find(self, x):\n",
    "        if self.parent[x] != x:\n",
    "            self.parent[x] = self.find(self.parent[x])\n",
    "        return self.parent[x]\n",
    "\n",
    "    # union by rank\n",
    "    def union(self, x, y):\n",
    "        x_root = self.find(x)\n",
    "        y_root = self.find(y)\n",
    "\n",
    "        if x_root == y_root:\n",
    "            return\n",
    "\n",
    "        if self.rank[x_root] < self.rank[y_root]:\n",
    "            self.parent[x_root] = y_root\n",
    "        elif self.rank[x_root] > self.rank[y_root]:\n",
    "            self.parent[y_root] = x_root\n",
    "        else:\n",
    "            self.parent[y_root] = x_root\n",
    "            self.rank[x_root] += 1"
   ]
  },
  {
   "cell_type": "code",
   "execution_count": 5,
   "id": "7442198f-d8f5-4f7a-9862-8b1305f3d809",
   "metadata": {},
   "outputs": [
    {
     "name": "stdout",
     "output_type": "stream",
     "text": [
      "0\n",
      "0\n",
      "3\n"
     ]
    }
   ],
   "source": [
    "obj = Solution(5)\n",
    "obj.union(0,2)\n",
    "obj.union(4,2)\n",
    "obj.union(3,1)\n",
    "\n",
    "print(obj.find(4))\n",
    "print(obj.find(0))\n",
    "print(obj.find(1))"
   ]
  },
  {
   "cell_type": "code",
   "execution_count": 4,
   "id": "a2387863-e3c7-4377-8a22-2a9f2f4b2bfa",
   "metadata": {},
   "outputs": [
    {
     "name": "stdout",
     "output_type": "stream",
     "text": [
      "[0, 1, 2, 0, 3]\n",
      "0\n",
      "[0, 1, 2, 0, 0]\n"
     ]
    }
   ],
   "source": [
    "n = 6\n",
    "parents = [x for x in range(5)]\n",
    "parents[4] = 3\n",
    "parents[3] = 0\n",
    "\n",
    "print(parents)\n",
    "\n",
    "def find_iterative_compress(x):\n",
    "    stack = [x]\n",
    "    while parents[stack[-1]] != stack[-1]:\n",
    "        stack.append(parents[stack[-1]])\n",
    "    root = stack.pop()\n",
    "    while stack:\n",
    "        num = stack.pop()\n",
    "        parents[num] = root\n",
    "    return root\n",
    "\n",
    "print(find_iterative_compress(4))\n",
    "\n",
    "print(parents)"
   ]
  },
  {
   "cell_type": "code",
   "execution_count": null,
   "id": "6841a001-a1eb-4df9-a8a4-c254162dfec2",
   "metadata": {},
   "outputs": [],
   "source": []
  }
 ],
 "metadata": {
  "kernelspec": {
   "display_name": "Python 3 (ipykernel)",
   "language": "python",
   "name": "python3"
  },
  "language_info": {
   "codemirror_mode": {
    "name": "ipython",
    "version": 3
   },
   "file_extension": ".py",
   "mimetype": "text/x-python",
   "name": "python",
   "nbconvert_exporter": "python",
   "pygments_lexer": "ipython3",
   "version": "3.10.5"
  }
 },
 "nbformat": 4,
 "nbformat_minor": 5
}
