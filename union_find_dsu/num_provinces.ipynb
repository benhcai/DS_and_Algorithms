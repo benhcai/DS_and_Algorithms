{
 "cells": [
  {
   "cell_type": "code",
   "execution_count": 13,
   "id": "2f461c49-c3bc-4561-b2e5-8e12cedce01d",
   "metadata": {},
   "outputs": [
    {
     "data": {
      "text/plain": [
       "1"
      ]
     },
     "execution_count": 13,
     "metadata": {},
     "output_type": "execute_result"
    }
   ],
   "source": [
    "def provinces(nums):\n",
    "    provs = len(nums)\n",
    "    parents = [x for x in range(len(nums))]\n",
    "    ranks = [0 for x in range(len(nums))]\n",
    "\n",
    "    # Recursively finding the ultimate parent\n",
    "    def find_parent(x):\n",
    "        if parents[x] != x:\n",
    "            parents[x] = find_parent(parents[x])\n",
    "        return parents[x]\n",
    "\n",
    "    # Attaching of one set to the other (based on ranking)\n",
    "    def union_nodes(x, y):\n",
    "        if ranks[x] >= ranks[y]:\n",
    "            if ranks[x] == ranks[y]:\n",
    "                ranks[x] += 1\n",
    "            parents[y] = x\n",
    "        else:\n",
    "            parents[x] = y\n",
    "\n",
    "    # Process each row calculating num of provinces\n",
    "    def calc_num_provinces():\n",
    "        nonlocal provs\n",
    "        for row in nums:\n",
    "            left = -1\n",
    "            for i, el in enumerate(row):\n",
    "                if el == 1 and left < 0:\n",
    "                    left = i\n",
    "                    continue\n",
    "                if el == 1:\n",
    "                    x_root = find_parent(left)\n",
    "                    y_root = find_parent(i)\n",
    "                    if x_root != y_root:\n",
    "                        union_nodes(x_root, y_root)\n",
    "                        provs -= 1\n",
    "\n",
    "    calc_num_provinces()\n",
    "    return provs\n",
    "\n",
    "isConnected = [[1,1,0],[1,1,0],[0,0,1]]\n",
    "isConnected = [[1,1,1],[0,1,0],[0,0,1]]\n",
    "provinces(isConnected)"
   ]
  },
  {
   "cell_type": "code",
   "execution_count": 52,
   "id": "077d9690-eaaf-4ac0-9be8-f20c158080b1",
   "metadata": {},
   "outputs": [
    {
     "name": "stdout",
     "output_type": "stream",
     "text": [
      "[0, 1, 2, 0, 3]\n",
      "0\n",
      "[0, 1, 2, 0, 0]\n"
     ]
    }
   ],
   "source": []
  }
 ],
 "metadata": {
  "kernelspec": {
   "display_name": "Python 3 (ipykernel)",
   "language": "python",
   "name": "python3"
  },
  "language_info": {
   "codemirror_mode": {
    "name": "ipython",
    "version": 3
   },
   "file_extension": ".py",
   "mimetype": "text/x-python",
   "name": "python",
   "nbconvert_exporter": "python",
   "pygments_lexer": "ipython3",
   "version": "3.10.5"
  }
 },
 "nbformat": 4,
 "nbformat_minor": 5
}
