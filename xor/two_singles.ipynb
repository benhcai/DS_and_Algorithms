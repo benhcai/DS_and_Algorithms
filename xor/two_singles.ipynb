{
 "cells": [
  {
   "cell_type": "code",
   "execution_count": 12,
   "id": "f023116e-5b00-4275-9200-4ef0f3c3f11e",
   "metadata": {},
   "outputs": [],
   "source": [
    "from random import randrange\n",
    "\n",
    "dups = [15,1,1,12,2,2,12,3,66,3,66,4,4,5,5,15]\n",
    "\n",
    "n = len(dups)\n",
    "l = randrange(n)\n",
    "r = randrange(n)\n",
    "\n",
    "arr = dups.copy()\n",
    "arr.insert(l, 99)\n",
    "arr.insert(r, 100)"
   ]
  },
  {
   "cell_type": "code",
   "execution_count": 15,
   "id": "b46a37c6-f829-4d43-9211-9cd173e7836c",
   "metadata": {},
   "outputs": [
    {
     "name": "stdout",
     "output_type": "stream",
     "text": [
      "[15, 1, 1, 12, 2, 2, 12, 3, 66, 3, 66, 4, 4, 99, 5, 100, 5, 15]\n"
     ]
    },
    {
     "data": {
      "text/plain": [
       "[100, 99]"
      ]
     },
     "execution_count": 15,
     "metadata": {},
     "output_type": "execute_result"
    }
   ],
   "source": [
    "def find(arr):\n",
    "    ab = 0\n",
    "    for el in arr:\n",
    "        ab ^= el\n",
    "\n",
    "    right_bit = 1\n",
    "    while (right_bit & ab) == 0:\n",
    "        right_bit <<=  1\n",
    "\n",
    "    a, b = 0, 0\n",
    "    for el in arr:\n",
    "        if right_bit & el == 0:\n",
    "            a ^= el\n",
    "        else:\n",
    "            b ^= el\n",
    "    \n",
    "    return [a, b]\n",
    "\n",
    "print(arr)\n",
    "find(arr)"
   ]
  }
 ],
 "metadata": {
  "kernelspec": {
   "display_name": "Python 3 (ipykernel)",
   "language": "python",
   "name": "python3"
  },
  "language_info": {
   "codemirror_mode": {
    "name": "ipython",
    "version": 3
   },
   "file_extension": ".py",
   "mimetype": "text/x-python",
   "name": "python",
   "nbconvert_exporter": "python",
   "pygments_lexer": "ipython3",
   "version": "3.10.5"
  }
 },
 "nbformat": 4,
 "nbformat_minor": 5
}
