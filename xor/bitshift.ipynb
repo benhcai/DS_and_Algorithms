{
 "cells": [
  {
   "cell_type": "code",
   "execution_count": 3,
   "id": "96201bf3-8fc1-4718-a8d5-e3dd2a3e00a3",
   "metadata": {},
   "outputs": [
    {
     "data": {
      "text/plain": [
       "'11001010'"
      ]
     },
     "execution_count": 3,
     "metadata": {},
     "output_type": "execute_result"
    }
   ],
   "source": [
    "# left shift\n",
    "bin(101 << 1)[2:]"
   ]
  },
  {
   "cell_type": "code",
   "execution_count": 31,
   "id": "db925365-4514-45ad-a3ca-652a123e74f4",
   "metadata": {},
   "outputs": [
    {
     "name": "stdout",
     "output_type": "stream",
     "text": [
      "8 10110000\n",
      "7 1011000\n",
      "6 101100\n",
      "5 10110\n",
      "4 1011\n",
      "3 101\n",
      "2 10\n",
      "1 1\n",
      "1 0\n"
     ]
    }
   ],
   "source": [
    "# right shift\n",
    "num = 0b10110000\n",
    "print(len(bin(num)[2:]), bin(num)[2:])\n",
    "\n",
    "i = 1\n",
    "while num > 0:\n",
    "    i += 1\n",
    "    num = num >> 1\n",
    "    print(len(bin(num)[2:]), bin(num)[2:])\n"
   ]
  }
 ],
 "metadata": {
  "kernelspec": {
   "display_name": "Python 3 (ipykernel)",
   "language": "python",
   "name": "python3"
  },
  "language_info": {
   "codemirror_mode": {
    "name": "ipython",
    "version": 3
   },
   "file_extension": ".py",
   "mimetype": "text/x-python",
   "name": "python",
   "nbconvert_exporter": "python",
   "pygments_lexer": "ipython3",
   "version": "3.10.5"
  }
 },
 "nbformat": 4,
 "nbformat_minor": 5
}
