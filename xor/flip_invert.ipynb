{
 "cells": [
  {
   "cell_type": "code",
   "execution_count": 14,
   "id": "3b6adcfd-4057-4571-835c-a579792ca203",
   "metadata": {},
   "outputs": [
    {
     "data": {
      "text/plain": [
       "[[1, 0, 0], [0, 1, 0], [1, 0, 1], [0, 1, 1]]"
      ]
     },
     "execution_count": 14,
     "metadata": {},
     "output_type": "execute_result"
    }
   ],
   "source": [
    "from typing import List\n",
    "\n",
    "class Solution:\n",
    "    def flipAndInvertImage(self, image: List[List[int]]) -> List[List[int]]:\n",
    "        for i in range(len(image)):\n",
    "            left = 0\n",
    "            right = len(image[0]) - 1\n",
    "            while left <= right:\n",
    "                invert_left = image[i][left] ^ 1\n",
    "                invert_right = image[i][right] ^ 1\n",
    "                \n",
    "                image[i][left] = invert_right\n",
    "                image[i][right] = invert_left\n",
    "                \n",
    "                left += 1\n",
    "                right -= 1\n",
    "            \n",
    "        return image\n",
    "\n",
    "sol = Solution()\n",
    "sol.flipAndInvertImage([[1,1,0], [1,0,1], [0,1,0], [0,0,1]])"
   ]
  },
  {
   "cell_type": "code",
   "execution_count": null,
   "id": "fae76977-3891-4e37-9a71-b246acc1a90f",
   "metadata": {},
   "outputs": [],
   "source": []
  }
 ],
 "metadata": {
  "kernelspec": {
   "display_name": "Python 3 (ipykernel)",
   "language": "python",
   "name": "python3"
  },
  "language_info": {
   "codemirror_mode": {
    "name": "ipython",
    "version": 3
   },
   "file_extension": ".py",
   "mimetype": "text/x-python",
   "name": "python",
   "nbconvert_exporter": "python",
   "pygments_lexer": "ipython3",
   "version": "3.10.5"
  }
 },
 "nbformat": 4,
 "nbformat_minor": 5
}
