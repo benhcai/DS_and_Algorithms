{
 "cells": [
  {
   "cell_type": "code",
   "execution_count": 16,
   "id": "a4db6a67-f3de-4711-905b-4b8021c9ac9c",
   "metadata": {},
   "outputs": [
    {
     "name": "stdout",
     "output_type": "stream",
     "text": [
      "0000000 0\n",
      "0010000 16\n",
      "0100000 32\n",
      "1000000 64\n",
      "0000000 0\n",
      "1110000 112\n"
     ]
    }
   ],
   "source": [
    "feature =   0b01110000\n",
    "\n",
    "arr = [ \n",
    "            0b00000001,\n",
    "            0b00010000,\n",
    "            0b00100000,\n",
    "            0b01000000,\n",
    "            0b00001000,\n",
    "            0b01110000\n",
    "]\n",
    "\n",
    "for el in arr:\n",
    "    print(f\"{bin((feature & el))[2:]:>07}\", feature & el)"
   ]
  },
  {
   "cell_type": "code",
   "execution_count": 111,
   "id": "8be51e60-6654-44ca-bf7e-ec9be0f6909c",
   "metadata": {},
   "outputs": [
    {
     "name": "stdout",
     "output_type": "stream",
     "text": [
      "0b101 5\n",
      "0b1010 10\n",
      "0b11001 25\n"
     ]
    }
   ],
   "source": [
    "print(bin(0b101), 0b101)\n",
    "print(bin(0b101 * 2), 0b101*2)\n",
    "print(bin(0b101 * 0b101), 0b101 * 0b101)"
   ]
  },
  {
   "cell_type": "code",
   "execution_count": 91,
   "id": "513894f0-7ab5-44e7-9f44-1dfdec177657",
   "metadata": {},
   "outputs": [
    {
     "name": "stdout",
     "output_type": "stream",
     "text": [
      "31\n",
      "1023\n"
     ]
    }
   ],
   "source": [
    "a = \"11111\"\n",
    "print(int(a,2))\n",
    "\n",
    "b = \"1\" * 10\n",
    "print(int(b,2))"
   ]
  },
  {
   "cell_type": "code",
   "execution_count": 14,
   "id": "6c07e802-b3db-4159-8f58-a203e135b8e7",
   "metadata": {},
   "outputs": [
    {
     "name": "stdout",
     "output_type": "stream",
     "text": [
      "-----\n",
      "101\n",
      "  0\n",
      "  0  0  0\n",
      "-----\n",
      "101\n",
      "  1\n",
      "  1  1  1\n",
      "-----\n",
      "101\n",
      " 10\n",
      "  0  2  0\n",
      "-----\n",
      "101\n",
      " 11\n",
      "  1  3  1\n",
      "-----\n",
      "101\n",
      "100\n",
      "100  4  4\n",
      "-----\n",
      "101\n",
      "101\n",
      "101  5  5\n",
      "-----\n",
      "101\n",
      "110\n",
      "100  6  4\n"
     ]
    }
   ],
   "source": [
    "c = 5\n",
    "for i in range(7):\n",
    "    print(\"-----\")\n",
    "    print(bin(c)[2:])\n",
    "    print(f\"{bin(i)[2:]:>3}\")\n",
    "    print(f\"{bin(c & i)[2:]:>3}\", f\"{i:>2}\", f\"{c & i:>2}\")"
   ]
  },
  {
   "cell_type": "code",
   "execution_count": 142,
   "id": "596a6a80-df53-4355-977f-8cb730b4ccee",
   "metadata": {},
   "outputs": [
    {
     "name": "stdout",
     "output_type": "stream",
     "text": [
      "  1        1\n",
      "  2       10\n",
      "  4      100\n",
      "  8     1000\n",
      " 16    10000\n",
      " 32   100000\n"
     ]
    }
   ],
   "source": [
    "for i in range(6):\n",
    "    print(\n",
    "        f\"{1 << i:>3}\",\n",
    "        f\"{bin(1 << i)[2:]:>8}\"\n",
    "    )"
   ]
  },
  {
   "cell_type": "code",
   "execution_count": null,
   "id": "4f232933-aa7e-43e2-85b6-54cf033c5632",
   "metadata": {},
   "outputs": [],
   "source": []
  }
 ],
 "metadata": {
  "kernelspec": {
   "display_name": "Python 3 (ipykernel)",
   "language": "python",
   "name": "python3"
  },
  "language_info": {
   "codemirror_mode": {
    "name": "ipython",
    "version": 3
   },
   "file_extension": ".py",
   "mimetype": "text/x-python",
   "name": "python",
   "nbconvert_exporter": "python",
   "pygments_lexer": "ipython3",
   "version": "3.9.5"
  }
 },
 "nbformat": 4,
 "nbformat_minor": 5
}
