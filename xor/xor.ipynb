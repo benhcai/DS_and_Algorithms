{
 "cells": [
  {
   "cell_type": "code",
   "execution_count": 8,
   "id": "c283d58d-bea9-4161-bec0-32a9d03b635f",
   "metadata": {},
   "outputs": [
    {
     "name": "stdout",
     "output_type": "stream",
     "text": [
      "Missing number is: 3\n"
     ]
    }
   ],
   "source": [
    "class Solution:\n",
    "  def findMissingNumber(self, arr):\n",
    "    n = len(arr) + 1\n",
    "    # x1 represents XOR of all values from 1 to n\n",
    "    x1 = 1\n",
    "    for i in range(2, n+1):\n",
    "      x1 = x1 ^ i\n",
    "\n",
    "    # x2 represents XOR of all values in arr\n",
    "    x2 = arr[0]\n",
    "    for i in range(1, n-1):\n",
    "      x2 = x2 ^ arr[i]\n",
    "    \n",
    "    # missing number is the xor of x1 and x2\n",
    "    return x1 ^ x2\n",
    "\n",
    "def main():\n",
    "  sol = Solution()\n",
    "  arr = [1, 5, 2, 6, 4] \n",
    "  print('Missing number is: ' + str(sol.findMissingNumber(arr)))\n",
    "\n",
    "main()"
   ]
  },
  {
   "cell_type": "code",
   "execution_count": 5,
   "id": "ef195c36-652d-468d-87f9-c826fdba510e",
   "metadata": {},
   "outputs": [
    {
     "data": {
      "text/plain": [
       "6"
      ]
     },
     "execution_count": 5,
     "metadata": {},
     "output_type": "execute_result"
    }
   ],
   "source": [
    "def find_missing(nums):\n",
    "    n = len(nums)\n",
    "    target = 0\n",
    "    for el in range(n+1):\n",
    "        target ^= el\n",
    "    for el in nums:\n",
    "        target ^= el\n",
    "    return target\n",
    "\n",
    "find_missing([0,1,2,3,4,5,7])"
   ]
  }
 ],
 "metadata": {
  "kernelspec": {
   "display_name": "Python 3 (ipykernel)",
   "language": "python",
   "name": "python3"
  },
  "language_info": {
   "codemirror_mode": {
    "name": "ipython",
    "version": 3
   },
   "file_extension": ".py",
   "mimetype": "text/x-python",
   "name": "python",
   "nbconvert_exporter": "python",
   "pygments_lexer": "ipython3",
   "version": "3.9.5"
  }
 },
 "nbformat": 4,
 "nbformat_minor": 5
}
