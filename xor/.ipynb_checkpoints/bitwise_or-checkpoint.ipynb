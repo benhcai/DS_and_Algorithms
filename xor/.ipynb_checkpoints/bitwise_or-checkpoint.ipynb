{
 "cells": [
  {
   "cell_type": "code",
   "execution_count": null,
   "id": "7c468a48-5404-48fb-b87e-6b6fe0bf33e8",
   "metadata": {},
   "outputs": [],
   "source": []
  },
  {
   "cell_type": "code",
   "execution_count": null,
   "id": "b1d30f59-ce75-4535-a3a6-98db8673ef0d",
   "metadata": {},
   "outputs": [],
   "source": [
    "dynamic_bits = [1, 0, 1, 1, 0, 0, 1, 1]\n",
    "\n",
    "# Construct the binary number\n",
    "binary_number = 0\n",
    "for bit in dynamic_bits:\n",
    "    binary_number = (binary_number << 1) | bit"
   ]
  }
 ],
 "metadata": {
  "kernelspec": {
   "display_name": "Python 3 (ipykernel)",
   "language": "python",
   "name": "python3"
  },
  "language_info": {
   "codemirror_mode": {
    "name": "ipython",
    "version": 3
   },
   "file_extension": ".py",
   "mimetype": "text/x-python",
   "name": "python",
   "nbconvert_exporter": "python",
   "pygments_lexer": "ipython3",
   "version": "3.9.5"
  }
 },
 "nbformat": 4,
 "nbformat_minor": 5
}
