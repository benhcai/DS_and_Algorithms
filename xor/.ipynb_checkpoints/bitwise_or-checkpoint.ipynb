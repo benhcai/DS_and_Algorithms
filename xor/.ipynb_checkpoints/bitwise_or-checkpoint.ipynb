{
 "cells": [
  {
   "cell_type": "code",
   "execution_count": 12,
   "id": "b1d30f59-ce75-4535-a3a6-98db8673ef0d",
   "metadata": {},
   "outputs": [
    {
     "name": "stdout",
     "output_type": "stream",
     "text": [
      "0b0        1\n",
      "0b1       \n",
      "0b10       0\n",
      "0b10      \n",
      "0b100      1\n",
      "0b101     \n",
      "0b1010     1\n",
      "0b1011    \n",
      "11\n"
     ]
    }
   ],
   "source": [
    "dynamic_bits = [1, 0, 1, 1]\n",
    "\n",
    "# Construct the binary number\n",
    "binary_number = 0\n",
    "for bit in dynamic_bits:\n",
    "    print(f\"{bin(binary_number << 1):<10}\", bit)     # this will always make binary_num's rightmost bit be 0, it will only change to one via bit array\n",
    "    print(f\"{bin((binary_number << 1) | bit):<10}\")\n",
    "    binary_number = (binary_number << 1) | bit\n",
    "    \n",
    "print(binary_number)"
   ]
  },
  {
   "cell_type": "code",
   "execution_count": 19,
   "id": "df004650-8555-4fd3-ac43-e3cffe918c5e",
   "metadata": {},
   "outputs": [
    {
     "name": "stdout",
     "output_type": "stream",
     "text": [
      "4\n"
     ]
    }
   ],
   "source": [
    "x = 1\n",
    "x <<= 1\n",
    "x <<= 1\n",
    "\n",
    "print(x)"
   ]
  },
  {
   "cell_type": "code",
   "execution_count": 13,
   "id": "3c3b3d22-a1dd-4d94-adfe-f24d8d9544d2",
   "metadata": {},
   "outputs": [
    {
     "name": "stdout",
     "output_type": "stream",
     "text": [
      "10101 21\n",
      "11001 25\n",
      "11101 29\n"
     ]
    }
   ],
   "source": [
    "a = 0b10101\n",
    "b = 0b11001\n",
    "\n",
    "print(bin(a)[2:], a)\n",
    "print(bin(b)[2:], b)\n",
    "print(bin(a|b)[2:], a|b)"
   ]
  }
 ],
 "metadata": {
  "kernelspec": {
   "display_name": "Python 3 (ipykernel)",
   "language": "python",
   "name": "python3"
  },
  "language_info": {
   "codemirror_mode": {
    "name": "ipython",
    "version": 3
   },
   "file_extension": ".py",
   "mimetype": "text/x-python",
   "name": "python",
   "nbconvert_exporter": "python",
   "pygments_lexer": "ipython3",
   "version": "3.10.5"
  }
 },
 "nbformat": 4,
 "nbformat_minor": 5
}
