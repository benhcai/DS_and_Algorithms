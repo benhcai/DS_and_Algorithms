{
 "cells": [
  {
   "cell_type": "code",
   "execution_count": null,
   "id": "e7d81697-2d09-4e55-9625-f87759176475",
   "metadata": {},
   "outputs": [],
   "source": [
    "n = 8"
   ]
  },
  {
   "cell_type": "code",
   "execution_count": 11,
   "id": "e6f4dc8a-4e84-4470-bd86-f1891d781fe0",
   "metadata": {},
   "outputs": [
    {
     "data": {
      "text/plain": [
       "2"
      ]
     },
     "execution_count": 11,
     "metadata": {},
     "output_type": "execute_result"
    }
   ],
   "source": [
    "def comp(num):\n",
    "    bin_num = bin(num)[2:]\n",
    "    comp = []\n",
    "    for bit in bin_num:\n",
    "        if bit == \"0\":\n",
    "            comp.append(1)\n",
    "        else:\n",
    "            comp.append(0)\n",
    "            \n",
    "    res = 0\n",
    "    for bit in comp:\n",
    "        res = res << 1 | bit\n",
    "    return res\n",
    "\n",
    "    # If bit array was constructed using strings\n",
    "    # comp = \"\".join(comp)\n",
    "    # return int(comp, 2)\n",
    "\n",
    "comp(5)"
   ]
  },
  {
   "cell_type": "code",
   "execution_count": 16,
   "id": "04d043f2-8c11-4b75-bdad-0752c523e793",
   "metadata": {},
   "outputs": [],
   "source": [
    "class Solution:\n",
    "    def bitwiseComplement(self, n: int) -> int:\n",
    "        shifts = 1\n",
    "        num = n\n",
    "        while num > 1:\n",
    "            shifts += 1\n",
    "            num >>= 1\n",
    "        \n",
    "        all_mask = pow(2, shifts) - 1\n",
    "        \n",
    "        res = all_mask ^ n\n",
    "        return res"
   ]
  }
 ],
 "metadata": {
  "kernelspec": {
   "display_name": "Python 3 (ipykernel)",
   "language": "python",
   "name": "python3"
  },
  "language_info": {
   "codemirror_mode": {
    "name": "ipython",
    "version": 3
   },
   "file_extension": ".py",
   "mimetype": "text/x-python",
   "name": "python",
   "nbconvert_exporter": "python",
   "pygments_lexer": "ipython3",
   "version": "3.10.5"
  }
 },
 "nbformat": 4,
 "nbformat_minor": 5
}
