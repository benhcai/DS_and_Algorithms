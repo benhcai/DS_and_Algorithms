{
 "cells": [
  {
   "cell_type": "code",
   "execution_count": 4,
   "id": "75a6cf4f-0c02-494c-87ed-16a1ecae54a4",
   "metadata": {},
   "outputs": [],
   "source": [
    "# find missing and duplicates\n",
    "InputA = [3, 1, 2, 5, 2]\n",
    "SortedA = [1,2,3,2,5]\n",
    "\n",
    "InputB = [3, 1, 2, 3, 6, 4]\n",
    "SortedB = [1,2,3,4,3,6]"
   ]
  },
  {
   "cell_type": "code",
   "execution_count": 7,
   "id": "ce5ad834-af66-49f8-a69d-03e1e6d6b139",
   "metadata": {},
   "outputs": [],
   "source": [
    "def find_corrupt_pair(nums):\n",
    "    # cyclic sort -> sort nums O(n) time, O(1) space\n",
    "    i = 0\n",
    "    while i < len(nums):\n",
    "        val = nums[i] - 1\n",
    "        if nums[i] == nums[val]:\n",
    "            i += 1\n",
    "        else:\n",
    "            nums[i], nums[val] = nums[val], nums[i]\n",
    "\n",
    "    # process sorted nums -> O(n) time, O(1) space\n",
    "    # find incorrect index\n",
    "    for i, val in enumerate(nums):\n",
    "        if i+1 != val:\n",
    "            return [val, i+1]\n",
    "            \n",
    "    return []"
   ]
  },
  {
   "cell_type": "code",
   "execution_count": 8,
   "id": "ad2ce699-a20a-4aba-9c9a-a3a1f3d11e26",
   "metadata": {},
   "outputs": [
    {
     "name": "stdout",
     "output_type": "stream",
     "text": [
      "[2, 4]\n",
      "[3, 5]\n"
     ]
    }
   ],
   "source": [
    "print(find_corrupt_pair(InputA))\n",
    "print(find_corrupt_pair(InputB))"
   ]
  },
  {
   "cell_type": "code",
   "execution_count": null,
   "id": "ac0195cb-d41c-4d94-b75f-a8e35c64b399",
   "metadata": {},
   "outputs": [],
   "source": []
  }
 ],
 "metadata": {
  "kernelspec": {
   "display_name": "Python 3 (ipykernel)",
   "language": "python",
   "name": "python3"
  },
  "language_info": {
   "codemirror_mode": {
    "name": "ipython",
    "version": 3
   },
   "file_extension": ".py",
   "mimetype": "text/x-python",
   "name": "python",
   "nbconvert_exporter": "python",
   "pygments_lexer": "ipython3",
   "version": "3.10.5"
  }
 },
 "nbformat": 4,
 "nbformat_minor": 5
}
