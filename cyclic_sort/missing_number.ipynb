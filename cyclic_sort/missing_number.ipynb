{
 "cells": [
  {
   "cell_type": "code",
   "execution_count": 31,
   "id": "da3a6257-5ae9-4455-8ce6-17aa2a175cd2",
   "metadata": {},
   "outputs": [],
   "source": [
    "def find_missing(nums):\n",
    "    i = 0\n",
    "    last_swap = 0\n",
    "    while i < len(nums):\n",
    "        j = nums[i]\n",
    "        if nums[i] < len(nums) and nums[i] != nums[j]:\n",
    "            nums[i], nums[j] = nums[j], nums[i]\n",
    "            last_swap = i\n",
    "        else:\n",
    "            i += 1\n",
    "    for i, val in enumerate(nums):\n",
    "        if i != val:\n",
    "            return i"
   ]
  },
  {
   "cell_type": "code",
   "execution_count": 21,
   "id": "90892a10-6035-4c0c-aa04-1eaef8d144a0",
   "metadata": {},
   "outputs": [
    {
     "name": "stdout",
     "output_type": "stream",
     "text": [
      "2\n",
      "7\n"
     ]
    }
   ],
   "source": [
    "nums1 = [4,0,3,1]\n",
    "print(find_missing(nums1))\n",
    "nums2 = [8, 3, 5, 2, 4, 6, 0, 1]\n",
    "print(find_missing(nums2))"
   ]
  },
  {
   "cell_type": "code",
   "execution_count": 46,
   "id": "f0778e69-791f-4bac-9707-0562b6f94af6",
   "metadata": {},
   "outputs": [
    {
     "name": "stdout",
     "output_type": "stream",
     "text": [
      "0\n",
      "2\n"
     ]
    }
   ],
   "source": [
    "nums3 = [4,2,1,5,3]\n",
    "[3,2,1,5,4]\n",
    "[5,2,1,3,4]\n",
    "[5,1,2,3,4]\n",
    "print(find_missing(nums3))\n",
    "\n",
    "nums4 = [0,1,3]\n",
    "print(find_missing(nums4))"
   ]
  },
  {
   "cell_type": "code",
   "execution_count": 47,
   "id": "f47d41fe-60d5-4038-97be-2893964f3b09",
   "metadata": {},
   "outputs": [
    {
     "name": "stdout",
     "output_type": "stream",
     "text": [
      "2\n",
      "7\n",
      "0\n",
      "2\n"
     ]
    }
   ],
   "source": [
    "def find_missing_gauss(nums):\n",
    "    # Carl Gauss sum of consecutive numbers\n",
    "    sum = int(len(nums)/2 * (1+len(nums)))\n",
    "    for val in nums:\n",
    "        sum = sum - val\n",
    "    return abs(sum)\n",
    "print(find_missing_gauss(nums1))\n",
    "print(find_missing_gauss(nums2))\n",
    "print(find_missing_gauss(nums3))\n",
    "print(find_missing_gauss(nums4))"
   ]
  }
 ],
 "metadata": {
  "kernelspec": {
   "display_name": "Python 3 (ipykernel)",
   "language": "python",
   "name": "python3"
  },
  "language_info": {
   "codemirror_mode": {
    "name": "ipython",
    "version": 3
   },
   "file_extension": ".py",
   "mimetype": "text/x-python",
   "name": "python",
   "nbconvert_exporter": "python",
   "pygments_lexer": "ipython3",
   "version": "3.9.5"
  }
 },
 "nbformat": 4,
 "nbformat_minor": 5
}
