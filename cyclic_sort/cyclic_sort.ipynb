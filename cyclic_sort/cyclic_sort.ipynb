{
 "cells": [
  {
   "cell_type": "code",
   "execution_count": 23,
   "id": "fc44c18d",
   "metadata": {},
   "outputs": [],
   "source": [
    "from typing import List\n",
    "\n",
    "def cyclic_sort(nums: List[int]) -> List[int]:\n",
    "    i = 0\n",
    "    while i < len(nums):\n",
    "        j = nums[i] # minus 1 if numbers range from 1\n",
    "        \"\"\"\n",
    "        nums[i] is the curr_value at that index,\n",
    "        nums[j] is the value at position which uses curr_value as index\n",
    "          if using curr_value leads to a different element, \n",
    "          it's not in the correct position\n",
    "        \"\"\"\n",
    "        if nums[i] != nums[j]:\n",
    "            nums[i], nums[j] = nums[j], nums[i]\n",
    "        else:\n",
    "            i += 1\n",
    "    return nums\n"
   ]
  },
  {
   "cell_type": "code",
   "execution_count": 14,
   "id": "652bf780",
   "metadata": {},
   "outputs": [
    {
     "name": "stdout",
     "output_type": "stream",
     "text": [
      "[1, 2, 3, 4, 5]\n",
      "[1, 2, 3, 4, 5, 6]\n",
      "[1, 2, 3, 4, 5, 6]\n"
     ]
    }
   ],
   "source": [
    "print(cyclic_sort([3, 1, 5, 4, 2]))\n",
    "print(cyclic_sort([2, 6, 4, 3, 1, 5]))\n",
    "print(cyclic_sort([1, 5, 6, 4, 3, 2]))"
   ]
  },
  {
   "cell_type": "code",
   "execution_count": 22,
   "id": "88896841",
   "metadata": {},
   "outputs": [
    {
     "name": "stdout",
     "output_type": "stream",
     "text": [
      "[0, 1, 2, 3, 4]\n"
     ]
    }
   ],
   "source": [
    "print(cyclic_sort([0,2,1,4,3]))"
   ]
  },
  {
   "cell_type": "code",
   "execution_count": null,
   "id": "1e1fa172",
   "metadata": {},
   "outputs": [],
   "source": []
  }
 ],
 "metadata": {
  "kernelspec": {
   "display_name": "Python 3 (ipykernel)",
   "language": "python",
   "name": "python3"
  },
  "language_info": {
   "codemirror_mode": {
    "name": "ipython",
    "version": 3
   },
   "file_extension": ".py",
   "mimetype": "text/x-python",
   "name": "python",
   "nbconvert_exporter": "python",
   "pygments_lexer": "ipython3",
   "version": "3.9.5"
  }
 },
 "nbformat": 4,
 "nbformat_minor": 5
}
