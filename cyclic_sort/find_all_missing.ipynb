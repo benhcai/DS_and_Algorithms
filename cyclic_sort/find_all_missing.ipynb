{
 "cells": [
  {
   "cell_type": "code",
   "execution_count": null,
   "id": "e97af89c-9b97-4999-bb87-45dd5443a908",
   "metadata": {},
   "outputs": [],
   "source": []
  },
  {
   "cell_type": "code",
   "execution_count": 15,
   "id": "33272db1-c030-4b0e-8921-c215da0f7899",
   "metadata": {},
   "outputs": [],
   "source": [
    "def find_all_missing(nums):\n",
    "    # sort in place - cyclic\n",
    "    i = 0\n",
    "    while i < len(nums):\n",
    "        val = nums[i] - 1 # nums range from 1\n",
    "        if nums[i] != nums[val]:\n",
    "            nums[i], nums[val] = nums[val], nums[i]\n",
    "        else:\n",
    "            i += 1\n",
    "\n",
    "    # process result\n",
    "    dups = []\n",
    "    for i, val in enumerate(nums):\n",
    "        if i + 1 != val:\n",
    "            dups.append(i + 1)\n",
    "\n",
    "    return dups"
   ]
  },
  {
   "cell_type": "code",
   "execution_count": 19,
   "id": "346a9c0c-1857-4492-bdff-8581920f6674",
   "metadata": {},
   "outputs": [],
   "source": [
    "a = [2, 3, 1, 8, 2, 3, 5, 1]"
   ]
  },
  {
   "cell_type": "code",
   "execution_count": 20,
   "id": "406acee9-0217-4c9e-9ad7-71530fc012eb",
   "metadata": {},
   "outputs": [
    {
     "name": "stdout",
     "output_type": "stream",
     "text": [
      "[4, 6, 7]\n"
     ]
    }
   ],
   "source": [
    "print(find_all_missing(a))"
   ]
  }
 ],
 "metadata": {
  "kernelspec": {
   "display_name": "Python 3 (ipykernel)",
   "language": "python",
   "name": "python3"
  },
  "language_info": {
   "codemirror_mode": {
    "name": "ipython",
    "version": 3
   },
   "file_extension": ".py",
   "mimetype": "text/x-python",
   "name": "python",
   "nbconvert_exporter": "python",
   "pygments_lexer": "ipython3",
   "version": "3.10.5"
  }
 },
 "nbformat": 4,
 "nbformat_minor": 5
}
