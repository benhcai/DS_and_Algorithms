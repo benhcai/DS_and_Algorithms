{
 "cells": [
  {
   "cell_type": "code",
   "execution_count": 24,
   "id": "316a5bfa-4fb5-483b-990c-afe34b1436c5",
   "metadata": {},
   "outputs": [],
   "source": [
    "def find_smallest_positive(nums):\n",
    "    # cyclic sort\n",
    "    i = 0\n",
    "    while i < len(nums):\n",
    "        val = nums[i]-1\n",
    "        if val >= len(nums) or val < 0 or nums[i] == nums[val]:\n",
    "            i += 1\n",
    "            continue\n",
    "        nums[i], nums[val] = nums[val], nums[i]\n",
    "\n",
    "    # look for first incorrect\n",
    "    for i, val in enumerate(nums):\n",
    "        if i + 1 != val:\n",
    "            return i + 1\n",
    "\n",
    "    # if nothing is missing, return next number\n",
    "    return len(nums) + 1"
   ]
  },
  {
   "cell_type": "code",
   "execution_count": 19,
   "id": "d402479a-63dd-4340-aa7c-8f7eafe89d25",
   "metadata": {},
   "outputs": [],
   "source": [
    "def find_smallest_positive(nums):\n",
    "    # cyclic sort\n",
    "    i = 0\n",
    "    while i < len(nums):\n",
    "        val = nums[i]-1\n",
    "        # nums > len(nums) won't contriubte to correct ordering\n",
    "        if val >= len(nums):\n",
    "            i += 1\n",
    "            continue\n",
    "        # 0 and negative nums also don't contribute to correct ordering. Don't use val <= 0 because that skips nums[i]=1\n",
    "        if val < 0:\n",
    "            i += 1\n",
    "            continue\n",
    "        # if correct spot, we continue to next element\n",
    "        if nums[i] == nums[val]:\n",
    "            i += 1\n",
    "            continue\n",
    "        nums[i], nums[val] = nums[val], nums[i]\n",
    "\n",
    "    # look for first incorrect \n",
    "    print(nums)\n",
    "    for i, val in enumerate(nums):\n",
    "        if i + 1 != val:\n",
    "            return i + \n",
    "\n",
    "    # if nothing is missing, return next number\n",
    "    return len(nums) + 1"
   ]
  },
  {
   "cell_type": "code",
   "execution_count": 25,
   "id": "d9d409f9-b058-4e3b-b83b-dfb8eacd4be3",
   "metadata": {},
   "outputs": [
    {
     "name": "stdout",
     "output_type": "stream",
     "text": [
      "3\n",
      "4\n"
     ]
    }
   ],
   "source": [
    "InputA =  [-3, 1, 5, 4, 2]\n",
    "print(find_smallest_positive(InputA))\n",
    "\n",
    "InputB = [3, -2, 0, 1, 2]\n",
    "print(find_smallest_positive(InputB))"
   ]
  }
 ],
 "metadata": {
  "kernelspec": {
   "display_name": "Python 3 (ipykernel)",
   "language": "python",
   "name": "python3"
  },
  "language_info": {
   "codemirror_mode": {
    "name": "ipython",
    "version": 3
   },
   "file_extension": ".py",
   "mimetype": "text/x-python",
   "name": "python",
   "nbconvert_exporter": "python",
   "pygments_lexer": "ipython3",
   "version": "3.10.5"
  }
 },
 "nbformat": 4,
 "nbformat_minor": 5
}
