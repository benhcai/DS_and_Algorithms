{
 "cells": [
  {
   "cell_type": "code",
   "execution_count": 39,
   "id": "d021c13f-43fc-49e1-9988-464d50f9925f",
   "metadata": {},
   "outputs": [],
   "source": [
    "def top_sort(graph):\n",
    "    stack = []\n",
    "\n",
    "    visited = set()\n",
    "\n",
    "    def dfs(vertex):\n",
    "        visited.add(vertex)\n",
    "        print(visited)\n",
    "        path.append(vertex)\n",
    "        for neighbour in graph[vertex]:\n",
    "            if neighbour in visited:\n",
    "                print(\"cycle\")\n",
    "            else:\n",
    "                dfs(neighbour)\n",
    "        \n",
    "        visited.remove(vertex)\n",
    "    \n",
    "    for vertex in graph:\n",
    "        path = []\n",
    "        if vertex not in visited:\n",
    "            dfs(vertex)\n",
    "        stack.append(path[::-1])\n",
    "        path.pop()\n",
    "            \n",
    "    ordering = stack[::-1]\n",
    "    return ordering"
   ]
  },
  {
   "cell_type": "code",
   "execution_count": 7,
   "id": "10df27bc-d078-461e-87bb-f3a09b09d36c",
   "metadata": {},
   "outputs": [],
   "source": [
    "def create_graph(prereqs, verts):\n",
    "    graph = {x: [] for x in range(verts)}\n",
    "    for pre, child in prereqs:\n",
    "        graph[pre].append(child)\n",
    "    return graph"
   ]
  },
  {
   "cell_type": "code",
   "execution_count": 18,
   "id": "304bdb7c-c242-497e-8542-03fc273008b6",
   "metadata": {},
   "outputs": [
    {
     "name": "stdout",
     "output_type": "stream",
     "text": [
      "{0: [1, 3], 1: [2], 2: [], 3: [2]}\n"
     ]
    }
   ],
   "source": [
    "graph = [\n",
    "    [0,1],\n",
    "    [1,2],\n",
    "    [0,3],\n",
    "    [3,2],\n",
    "]\n",
    "g = create_graph(graph, 4)\n",
    "print(g)"
   ]
  },
  {
   "cell_type": "code",
   "execution_count": 40,
   "id": "14e4d634-5981-4bbf-9068-a87bd6444661",
   "metadata": {},
   "outputs": [
    {
     "name": "stdout",
     "output_type": "stream",
     "text": [
      "{0}\n",
      "{0, 1}\n",
      "{0, 1, 2}\n",
      "{0, 3}\n",
      "{0, 2, 3}\n",
      "{1}\n",
      "{2, 1}\n",
      "{2}\n",
      "{3}\n",
      "{2, 3}\n"
     ]
    },
    {
     "data": {
      "text/plain": [
       "[[3, 2], [2], [1, 2], [0, 3, 2, 1, 2]]"
      ]
     },
     "execution_count": 40,
     "metadata": {},
     "output_type": "execute_result"
    }
   ],
   "source": [
    "top_sort(g)"
   ]
  }
 ],
 "metadata": {
  "kernelspec": {
   "display_name": "Python 3 (ipykernel)",
   "language": "python",
   "name": "python3"
  },
  "language_info": {
   "codemirror_mode": {
    "name": "ipython",
    "version": 3
   },
   "file_extension": ".py",
   "mimetype": "text/x-python",
   "name": "python",
   "nbconvert_exporter": "python",
   "pygments_lexer": "ipython3",
   "version": "3.10.5"
  }
 },
 "nbformat": 4,
 "nbformat_minor": 5
}
