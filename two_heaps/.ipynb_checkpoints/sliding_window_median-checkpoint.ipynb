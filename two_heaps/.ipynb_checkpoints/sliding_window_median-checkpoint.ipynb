{
 "cells": [
  {
   "cell_type": "code",
   "execution_count": 5,
   "id": "87004339-7380-49c1-bb5a-18b90e35e407",
   "metadata": {},
   "outputs": [],
   "source": [
    "from typing import List\n",
    "from heapq import heappop, heappush, _siftup, _siftdown\n",
    "from itertools import islice\n",
    "mh = max_heap()\n",
    "\n",
    "class Solution:\n",
    "    def medianSlidingWindow(self, nums: List[int], k: int) -> List[float]:\n",
    "        min_heap = []\n",
    "        max_heap = []\n",
    "        meds = []\n",
    "        \n",
    "        def populate_heaps(left, right):\n",
    "            for i,num, in enumerate(islice(nums, left, right+1), start=left):\n",
    "                add_num(num)\n",
    "\n",
    "        def add_num(num):\n",
    "            if not min_heap or num >= min_heap[0]:\n",
    "                heappush(min_heap, num)\n",
    "            else:\n",
    "                heappush(max_heap, -num)\n",
    "            balance_heaps()\n",
    "            \n",
    "        def balance_heaps():\n",
    "            if len(min_heap) > len(max_heap) + 1:\n",
    "                heappush(max_heap, -heappop(min_heap))\n",
    "            elif len(max_heap) > len(min_heap):\n",
    "                heappush(min_heap, -heappop(max_heap))\n",
    "        \n",
    "        def find_med():\n",
    "            if len(min_heap) == len(max_heap):\n",
    "                return (min_heap[0] - max_heap[0]) / 2\n",
    "            else:\n",
    "                return float(min_heap[0])\n",
    "\n",
    "        def remove_element(heap, target):\n",
    "            try:\n",
    "                i = heap.index(target)\n",
    "                heap[i] = heap[-1]\n",
    "                heap.pop()\n",
    "                if i < len(heap):\n",
    "                    _siftup(heap, i)\n",
    "                    _siftdown(heap, 0, i)\n",
    "                return True\n",
    "            except:\n",
    "                return False\n",
    "                \n",
    "        def traverse_array():\n",
    "            # create initial heaps\n",
    "            left = 0\n",
    "            right = left + k - 1\n",
    "            populate_heaps(left, right)\n",
    "\n",
    "            prev = nums[left]\n",
    "\n",
    "            med = find_med()\n",
    "            meds.append(med)\n",
    "\n",
    "            # traverse while removing leaving (left) number and adding incoming (right) number\n",
    "            for left in range(1, len(nums) - k + 1) :\n",
    "                # try remove from max_heap, if not found in max_heap, then prev must be in min_heap\n",
    "                if not remove_element(max_heap, -prev):\n",
    "                    remove_element(min_heap, prev)\n",
    "\n",
    "                # rebalance both as we removed an element\n",
    "                balance_heaps()\n",
    "                \n",
    "                right = left + k - 1\n",
    "                add_num(nums[right])\n",
    "                prev = nums[left]\n",
    "\n",
    "                med = find_med()\n",
    "                meds.append(med)\n",
    "\n",
    "        if k > len(nums):\n",
    "            return []\n",
    "            \n",
    "        traverse_array()\n",
    "        \n",
    "        return meds"
   ]
  },
  {
   "cell_type": "code",
   "execution_count": null,
   "id": "1bd5d2a9-138c-423b-a3fc-769ade09005f",
   "metadata": {},
   "outputs": [],
   "source": []
  },
  {
   "cell_type": "code",
   "execution_count": 40,
   "id": "150110af-26ff-443d-af73-2a6d4cb58926",
   "metadata": {},
   "outputs": [
    {
     "name": "stdout",
     "output_type": "stream",
     "text": [
      "[2.0, 1.0, -2.0, 1.0, 4.0, 4.5]\n"
     ]
    }
   ],
   "source": [
    "print(medianSlidingWindow([1,3,-1,-3,5,3,6,7],2))"
   ]
  }
 ],
 "metadata": {
  "kernelspec": {
   "display_name": "Python 3 (ipykernel)",
   "language": "python",
   "name": "python3"
  },
  "language_info": {
   "codemirror_mode": {
    "name": "ipython",
    "version": 3
   },
   "file_extension": ".py",
   "mimetype": "text/x-python",
   "name": "python",
   "nbconvert_exporter": "python",
   "pygments_lexer": "ipython3",
   "version": "3.10.5"
  }
 },
 "nbformat": 4,
 "nbformat_minor": 5
}
