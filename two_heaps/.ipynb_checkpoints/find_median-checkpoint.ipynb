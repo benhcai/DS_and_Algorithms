{
 "cells": [
  {
   "cell_type": "code",
   "execution_count": 69,
   "id": "b19c18e9-417b-457c-bf83-731d2c2f1c68",
   "metadata": {},
   "outputs": [],
   "source": [
    "from heapq import heappush, heappop\n",
    "\n",
    "class MedianFinder:\n",
    "    def __init__(self):\n",
    "        self.min_heap = [] # the upper range of numbers\n",
    "        self.max_heap = [] # the lower range of numbers\n",
    "\n",
    "    def addNum(self, num):\n",
    "        \"\"\"\n",
    "        If both are empty, we push to min_heap.\n",
    "        \n",
    "        Also, if the incoming number is greater than the smallest of the upper range, \n",
    "        we send that number deeper into the upper heap.\n",
    "        \n",
    "        If num is a repeat of the lowest in the upper heap, we arbitrarily push it to upper heap.\n",
    "        \"\"\"\n",
    "        if not self.min_heap or num >= self.min_heap[0]:\n",
    "            heappush(self.min_heap, num)\n",
    "        else:\n",
    "            \"\"\" If there's already one element in the upper range, we push to the lower range (max_heap),\n",
    "                same for when incoming num is less than the smallest value of the upper range. \"\"\"\n",
    "            heappush(self.max_heap, -num)\n",
    "\n",
    "        \"\"\"\n",
    "        As we want to calculate median by taking the average of both (even # nums)\n",
    "        or taking the peek of min_heap,\n",
    "        we must maintain the lengths s.t. upper can only be longer by 1.\n",
    "\n",
    "        If the upper range heap is too long we take the lowest from upper range,\n",
    "        and make it the highest in the lower range.\n",
    "        \"\"\"\n",
    "        if len(self.min_heap) > len(self.max_heap) + 1:\n",
    "            heappush(self.max_heap, -heappop(self.min_heap))\n",
    "            \"\"\"\n",
    "            Ensure max_heap is never longer than min_heap.\n",
    "            If it is, we move the top value from max_heap to min_heap.\n",
    "            \"\"\"\n",
    "        elif len(self.min_heap) < len(self.max_heap):\n",
    "            heappush(self.min_heap, -heappop(self.max_heap))\n",
    "\n",
    "        print('max', self.max_heap[0] if self.max_heap else -1)\n",
    "        print('min', self.min_heap[0] if self.min_heap else -1)\n",
    "\n",
    "        \"\"\"\n",
    "        if both heaps are the same length, we just continue\n",
    "        \"\"\"\n",
    "\n",
    "    def findMedian(self):\n",
    "        if len(self.min_heap) == len(self.max_heap):\n",
    "            return float(self.min_heap[0] - self.max_heap[0]) / 2.0\n",
    "        else:\n",
    "            return float(self.min_heap[0])"
   ]
  },
  {
   "cell_type": "code",
   "execution_count": 71,
   "id": "c3c35836-f29e-43c3-8da7-781617f09032",
   "metadata": {},
   "outputs": [
    {
     "name": "stdout",
     "output_type": "stream",
     "text": [
      "max -1\n",
      "min 10\n",
      "max -9\n",
      "min 10\n",
      "max -8\n",
      "min 9\n",
      "max -8\n",
      "min 9\n",
      "max -7\n",
      "min 8\n"
     ]
    },
    {
     "data": {
      "text/plain": [
       "8.0"
      ]
     },
     "execution_count": 71,
     "metadata": {},
     "output_type": "execute_result"
    }
   ],
   "source": [
    "sol = MedianFinder()\n",
    "sol.addNum(10)\n",
    "sol.addNum(9)\n",
    "sol.addNum(8)\n",
    "sol.addNum(7)\n",
    "sol.addNum(6)\n",
    "sol.findMedian()"
   ]
  }
 ],
 "metadata": {
  "kernelspec": {
   "display_name": "Python 3 (ipykernel)",
   "language": "python",
   "name": "python3"
  },
  "language_info": {
   "codemirror_mode": {
    "name": "ipython",
    "version": 3
   },
   "file_extension": ".py",
   "mimetype": "text/x-python",
   "name": "python",
   "nbconvert_exporter": "python",
   "pygments_lexer": "ipython3",
   "version": "3.9.5"
  }
 },
 "nbformat": 4,
 "nbformat_minor": 5
}
