{
 "cells": [
  {
   "cell_type": "code",
   "execution_count": 8,
   "id": "e759c2d4-cb45-4aee-93ef-cfb9fedbb4f9",
   "metadata": {},
   "outputs": [],
   "source": [
    "from typing import List\n",
    "\n",
    "def findCircleNum(isConnected: List[List[int]]) -> int:\n",
    "        graph = {v: [] for v in range(1,len(isConnected[0])+1)}\n",
    "        \n",
    "        for i, connect in enumerate(isConnected):\n",
    "            for j, neigh in enumerate(isConnected[i]):\n",
    "                if neigh == 1 and i != j:\n",
    "                    graph[i+1].append(j+1)\n",
    "        \n",
    "        visited = set()\n",
    "        provinces = 0\n",
    "        stack = []\n",
    "        # do a dfs or bfs at each node\n",
    "            # if not visited\n",
    "            # provences++\n",
    "            # while [],\n",
    "                # pop from []\n",
    "                # if node not visited\n",
    "                # add to visited\n",
    "                # add neighbors of curr node to []\n",
    "        \n",
    "        for v in graph:\n",
    "            if v not in visited:\n",
    "                provinces += 1\n",
    "                stack.append(v)\n",
    "                \n",
    "                while stack:\n",
    "                    curr = stack.pop()\n",
    "                    if curr in visited:\n",
    "                        continue\n",
    "                    print(curr)\n",
    "                    visited.add(curr)\n",
    "                    for neigh in graph[curr]:\n",
    "                        stack.append(neigh)\n",
    "\n",
    "        return provinces"
   ]
  },
  {
   "cell_type": "code",
   "execution_count": 11,
   "id": "87a3ce82-7063-421d-8af3-98b5c3edb864",
   "metadata": {},
   "outputs": [
    {
     "name": "stdout",
     "output_type": "stream",
     "text": [
      "1\n",
      "4\n",
      "3\n",
      "2\n",
      "prov 2\n"
     ]
    }
   ],
   "source": [
    "edges = [[1,0,0,1],[0,1,1,0],[0,0,1,1],[1,0,1,1]]\n",
    "print('prov', findCircleNum(edges))\n"
   ]
  }
 ],
 "metadata": {
  "kernelspec": {
   "display_name": "Python 3 (ipykernel)",
   "language": "python",
   "name": "python3"
  },
  "language_info": {
   "codemirror_mode": {
    "name": "ipython",
    "version": 3
   },
   "file_extension": ".py",
   "mimetype": "text/x-python",
   "name": "python",
   "nbconvert_exporter": "python",
   "pygments_lexer": "ipython3",
   "version": "3.9.5"
  }
 },
 "nbformat": 4,
 "nbformat_minor": 5
}
