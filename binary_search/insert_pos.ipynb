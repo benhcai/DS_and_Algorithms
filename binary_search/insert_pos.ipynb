{
 "cells": [
  {
   "cell_type": "code",
   "execution_count": 80,
   "id": "c3086e43-44a8-4e93-9960-c59874b79285",
   "metadata": {},
   "outputs": [],
   "source": [
    "def insert_pos(nums, target):\n",
    "    left = 0\n",
    "    right = len(nums) - 1\n",
    "    res = len(nums)\n",
    "    while left <= right:\n",
    "        mid = left + (right - left) // 2\n",
    "        if target > nums[mid]:\n",
    "            left = mid + 1\n",
    "        else:\n",
    "            res = mid\n",
    "            right = mid - 1\n",
    "\n",
    "    return res"
   ]
  },
  {
   "cell_type": "code",
   "execution_count": 81,
   "id": "cd671179-6f78-4433-9996-5c5d5fe99264",
   "metadata": {},
   "outputs": [
    {
     "data": {
      "text/plain": [
       "4"
      ]
     },
     "execution_count": 81,
     "metadata": {},
     "output_type": "execute_result"
    }
   ],
   "source": [
    "nums = [1,3,5,6]\n",
    "target = 7\n",
    "insert_pos(nums, target)"
   ]
  },
  {
   "cell_type": "code",
   "execution_count": 35,
   "id": "fcec4499-8a42-4cee-aa59-766bba8a8cba",
   "metadata": {},
   "outputs": [],
   "source": [
    "def insert_pos(nums, target):\n",
    "    left = 0\n",
    "    right = len(nums) - 1\n",
    "\n",
    "    if target < nums[0]:\n",
    "        return 0\n",
    "\n",
    "    if target > nums[-1]:\n",
    "        return len(nums)\n",
    "    \n",
    "    while left <= right:\n",
    "        mid = left + (right - left) // 2\n",
    "        if nums[mid] == target:\n",
    "            return mid\n",
    "        if nums[mid] < target:\n",
    "            left = mid + 1\n",
    "        else:\n",
    "            right = mid - 1\n",
    "            \n",
    "    if nums[left] > target:\n",
    "        return left\n",
    "    elif left + 1 < len(nums) and nums[left + 1] > target:\n",
    "        return left + 1"
   ]
  },
  {
   "cell_type": "code",
   "execution_count": 74,
   "id": "be289dbc-d522-45e3-b95b-0af1f93acf7f",
   "metadata": {},
   "outputs": [],
   "source": [
    "def insert_pos(nums, target):\n",
    "    left = 0\n",
    "    right = len(nums) - 1\n",
    "\n",
    "    while left < right:\n",
    "        mid = left + (right - left) // 2\n",
    "        if target > nums[mid]:\n",
    "            left = mid + 1\n",
    "        else:\n",
    "            right = mid\n",
    "\n",
    "    if nums[left] == target:\n",
    "        return left\n",
    "    if target > nums[left]:\n",
    "        return len(nums)\n",
    "    return left"
   ]
  }
 ],
 "metadata": {
  "kernelspec": {
   "display_name": "Python 3 (ipykernel)",
   "language": "python",
   "name": "python3"
  },
  "language_info": {
   "codemirror_mode": {
    "name": "ipython",
    "version": 3
   },
   "file_extension": ".py",
   "mimetype": "text/x-python",
   "name": "python",
   "nbconvert_exporter": "python",
   "pygments_lexer": "ipython3",
   "version": "3.9.5"
  }
 },
 "nbformat": 4,
 "nbformat_minor": 5
}
