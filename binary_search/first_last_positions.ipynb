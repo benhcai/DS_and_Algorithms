{
 "cells": [
  {
   "cell_type": "code",
   "execution_count": 38,
   "id": "a9d2cea1-fda4-4101-b260-6cc7b965b05e",
   "metadata": {},
   "outputs": [
    {
     "name": "stdout",
     "output_type": "stream",
     "text": [
      "[-1, -1]\n"
     ]
    }
   ],
   "source": [
    "def range(nums, target):\n",
    "    def findFirst(flag):\n",
    "        left = 0\n",
    "        right = len(nums) - 1\n",
    "        last_found = 0\n",
    "        while left <= right:\n",
    "            mid = left + (right-left) // 2\n",
    "            if target > nums[mid]:\n",
    "                left = mid + 1\n",
    "            elif target < nums[mid]:\n",
    "                right = mid - 1\n",
    "            else:\n",
    "                last_found = mid\n",
    "                if flag == True:\n",
    "                    right = mid - 1\n",
    "                else:\n",
    "                    left = mid + 1\n",
    "\n",
    "        return last_found\n",
    "\n",
    "    start = findFirst(True)\n",
    "    end = findFirst(False)\n",
    "    \n",
    "    if start >= len(nums) or end < 0 or nums[start] != target:\n",
    "        return [-1, -1] \n",
    "\n",
    "    return [start, end]\n",
    "\n",
    "print(range([1,2,3,3,3,3,4,4,4], 5))"
   ]
  }
 ],
 "metadata": {
  "kernelspec": {
   "display_name": "Python 3 (ipykernel)",
   "language": "python",
   "name": "python3"
  },
  "language_info": {
   "codemirror_mode": {
    "name": "ipython",
    "version": 3
   },
   "file_extension": ".py",
   "mimetype": "text/x-python",
   "name": "python",
   "nbconvert_exporter": "python",
   "pygments_lexer": "ipython3",
   "version": "3.10.5"
  }
 },
 "nbformat": 4,
 "nbformat_minor": 5
}
