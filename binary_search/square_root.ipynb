{
 "cells": [
  {
   "cell_type": "code",
   "execution_count": 1,
   "id": "efd2c54e-3b9b-4d9e-bfca-8788803642a4",
   "metadata": {},
   "outputs": [
    {
     "name": "stdout",
     "output_type": "stream",
     "text": [
      "3\n",
      "1\n",
      "2\n",
      "2\n"
     ]
    }
   ],
   "source": [
    "def sqrt(A):\n",
    "        if not A:\n",
    "            return A\n",
    "        left = 0\n",
    "        right = A\n",
    "        mid = int(A/2)\n",
    "        while left <= right:\n",
    "            print(mid)\n",
    "            if mid**2 == A:\n",
    "                return mid\n",
    "            if mid**2 < A and (mid+1)**2 > A:\n",
    "                return mid\n",
    "            if mid**2 < A:\n",
    "                left = mid + 1\n",
    "            else:\n",
    "                right = mid - 1\n",
    "            mid = left + int((right-left)/2)\n",
    "        return A\n",
    "\n",
    "print(sqrt(6))\n"
   ]
  }
 ],
 "metadata": {
  "kernelspec": {
   "display_name": "Python 3 (ipykernel)",
   "language": "python",
   "name": "python3"
  },
  "language_info": {
   "codemirror_mode": {
    "name": "ipython",
    "version": 3
   },
   "file_extension": ".py",
   "mimetype": "text/x-python",
   "name": "python",
   "nbconvert_exporter": "python",
   "pygments_lexer": "ipython3",
   "version": "3.9.5"
  }
 },
 "nbformat": 4,
 "nbformat_minor": 5
}
