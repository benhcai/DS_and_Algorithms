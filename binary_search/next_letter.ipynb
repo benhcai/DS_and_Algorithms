{
 "cells": [
  {
   "cell_type": "code",
   "execution_count": null,
   "id": "07e69661-d292-435a-b37b-1dbdfc178e00",
   "metadata": {},
   "outputs": [],
   "source": [
    "# For the following two, we hold onto theh last_mid to give us our answer\n",
    "# We have to initialize last_mid appropriately."
   ]
  },
  {
   "cell_type": "code",
   "execution_count": 3,
   "id": "b8911dad-cc90-4720-b4e8-b6b9393e456b",
   "metadata": {},
   "outputs": [
    {
     "name": "stdout",
     "output_type": "stream",
     "text": [
      "0\n",
      "c\n"
     ]
    }
   ],
   "source": [
    "# Last_mid points at the last instance of target\n",
    "\n",
    "from typing import List\n",
    "\n",
    "def nextGreatestLetter(letters: List[str], target: str) -> str:\n",
    "    n = len(letters)\n",
    "    left, right = 0, n - 1\n",
    "    last_mid = right\n",
    "    while left <= right:\n",
    "        mid = left + (right - left) // 2\n",
    "        if letters[mid] <= target: # if we found target, we shift left\n",
    "            last_mid = mid\n",
    "            left = mid + 1\n",
    "        else: # target < letters[mid]:\n",
    "            right = mid - 1\n",
    "\n",
    "    print(last_mid)\n",
    "    if last_mid + 1 < len(letters):\n",
    "        return letters[last_mid+1]\n",
    "\n",
    "    return letters[0]\n",
    "    \n",
    "letters = ['b','c','c','c','c','c','c','c','c','c','e']\n",
    "print(nextGreatestLetter(letters, \"b\"))"
   ]
  },
  {
   "cell_type": "code",
   "execution_count": 25,
   "id": "819857a9-39af-4b53-9a6b-76f89483a456",
   "metadata": {},
   "outputs": [
    {
     "name": "stdout",
     "output_type": "stream",
     "text": [
      "10\n",
      "c\n"
     ]
    }
   ],
   "source": [
    "# Last_mid points at the first instance of target\n",
    "\n",
    "from typing import List\n",
    "\n",
    "def prevLetter(letters: List[str], target: str) -> str:\n",
    "    n = len(letters)\n",
    "    left, right = 0, n - 1\n",
    "    last_mid = 0\n",
    "    while left <= right:\n",
    "        mid = left + (right - left) // 2\n",
    "        if letters[mid] < target:\n",
    "            left = mid + 1\n",
    "        else: # if we found target, we shift right\n",
    "            last_mid = mid\n",
    "            right = mid - 1\n",
    "\n",
    "    print(last_mid)\n",
    "    if last_mid - 1 >= 0:\n",
    "        return letters[last_mid-1]\n",
    "\n",
    "    return letters[-1]\n",
    "    \n",
    "letters = ['b','c','c','c','c','c','c','c','c','c','e']\n",
    "print(prevLetter(letters, \"d\"))"
   ]
  },
  {
   "cell_type": "code",
   "execution_count": null,
   "id": "62947926-5477-4279-8196-ed5c427b456b",
   "metadata": {},
   "outputs": [],
   "source": [
    "# For the following two, we use LEFT to give us the answer"
   ]
  },
  {
   "cell_type": "code",
   "execution_count": null,
   "id": "f46c9636-06ea-4e6c-8778-ab8951d36d10",
   "metadata": {},
   "outputs": [],
   "source": [
    "# Left ends up pointing at the element after the last instance of target\n",
    "\n",
    "from typing import List\n",
    "\n",
    "def nextGreatestLetter(letters: List[str], target: str) -> str:\n",
    "    n = len(letters)\n",
    "    left, right = 0, n - 1\n",
    "    while left <= right:\n",
    "        mid = left + (right - left) // 2\n",
    "        if letters[mid] <= target:\n",
    "            left = mid + 1\n",
    "        else: # target < letters[mid]:\n",
    "            right = mid - 1\n",
    "\n",
    "    if left >= len(letters):\n",
    "        return letters[0]\n",
    "    \n",
    "    return letters[left]\n",
    "letters = ['a','b','b','b','c','c','c','c','c','c','c']\n",
    "print(nextGreatestLetter(letters, \"d\"))"
   ]
  },
  {
   "cell_type": "code",
   "execution_count": null,
   "id": "746e79e0-64f5-4a73-af33-87988165bc11",
   "metadata": {},
   "outputs": [],
   "source": [
    "# Left ends up pointing at the first instance of target\n",
    "\n",
    "from typing import List\n",
    "\n",
    "def prevLetter(letters: List[str], target: str) -> str:\n",
    "    n = len(letters)\n",
    "    left, right = 0, n - 1\n",
    "    while left <= right:\n",
    "        mid = left + (right - left) // 2\n",
    "        if letters[mid] < target:\n",
    "            left = mid + 1\n",
    "        else: # letters[mid] >= target\n",
    "            right = mid - 1\n",
    "    print(left)\n",
    "    if left - 1 >= 0:\n",
    "        return letters[left-1]\n",
    "    return letters[-1]\n",
    "letters = ['a','b','b','b','c','c','c','c','c','c']\n",
    "print(prevLetter(letters, \"b\"))"
   ]
  },
  {
   "cell_type": "code",
   "execution_count": null,
   "id": "d410dc67-513b-4bc7-9889-cf51abdab910",
   "metadata": {},
   "outputs": [],
   "source": [
    "# The following variants, we allow moving left or right pointer to the mid pointer"
   ]
  },
  {
   "cell_type": "code",
   "execution_count": null,
   "id": "0dab2682-1eca-4610-bb28-e95bc36d4fa8",
   "metadata": {},
   "outputs": [],
   "source": [
    "from typing import List\n",
    "\n",
    "def nextGreatestLetter(letters: List[str], target: str) -> str:\n",
    "    left = 0\n",
    "    right = len(letters) - 1\n",
    "    while left < right:\n",
    "        mid = left + (right - left + 1) // 2\n",
    "        if letters[mid] <= target:\n",
    "            left = mid\n",
    "        else:\n",
    "            right = mid - 1\n",
    "    if left + 1 == len(letters) or letters[left] != target:\n",
    "        print(left)\n",
    "        return letters[0]\n",
    "    return letters[left + 1]\n",
    "letters = ['a','b','b','b','c','c','c','c','c','c','c']\n",
    "print(nextGreatestLetter(letters, \"b\"))"
   ]
  },
  {
   "cell_type": "code",
   "execution_count": null,
   "id": "6a76f973-21b9-46b3-8d56-a83036fa2fc6",
   "metadata": {},
   "outputs": [],
   "source": [
    "from typing import List\n",
    "\n",
    "def prevLetter(letters: List[str], target: str) -> str:\n",
    "    left = 0\n",
    "    right = len(letters) - 1\n",
    "    while left < right:\n",
    "        mid = left + (right - left) // 2\n",
    "        if letters[mid] < target:\n",
    "            left = mid + 1\n",
    "        else:\n",
    "            right = mid\n",
    "    if left - 1 < 0 or letters[left] != target:\n",
    "        print(left)\n",
    "        return letters[-1]\n",
    "    return letters[left - 1]\n",
    "letters = ['a','b','b','b','c','c','c','c','c','c']\n",
    "print(prevLetter(letters, \"b\"))"
   ]
  }
 ],
 "metadata": {
  "kernelspec": {
   "display_name": "Python 3 (ipykernel)",
   "language": "python",
   "name": "python3"
  },
  "language_info": {
   "codemirror_mode": {
    "name": "ipython",
    "version": 3
   },
   "file_extension": ".py",
   "mimetype": "text/x-python",
   "name": "python",
   "nbconvert_exporter": "python",
   "pygments_lexer": "ipython3",
   "version": "3.9.5"
  }
 },
 "nbformat": 4,
 "nbformat_minor": 5
}
