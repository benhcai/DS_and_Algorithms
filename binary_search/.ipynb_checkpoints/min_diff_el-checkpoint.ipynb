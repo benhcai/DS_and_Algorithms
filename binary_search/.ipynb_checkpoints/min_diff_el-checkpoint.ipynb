{
 "cells": [
  {
   "cell_type": "code",
   "execution_count": 40,
   "id": "60c3189e-8480-4c10-a069-af0df057a393",
   "metadata": {},
   "outputs": [],
   "source": [
    "def min_diff(nums, target):\n",
    "    left = 0\n",
    "    right = len(nums) - 1\n",
    "    res = 0\n",
    "\n",
    "    if target < nums[0]:\n",
    "        return nums[0]\n",
    "    else:\n",
    "        return nums[-1]\n",
    "\n",
    "    while left <= right:\n",
    "        mid = left + (right - left) // 2\n",
    "        if nums[mid] < target:\n",
    "            left = mid + 1\n",
    "        else:\n",
    "            res = mid\n",
    "            right = mid - 1\n",
    "\n",
    "    if res - 1 >= 0:\n",
    "        prev = abs(target - nums[res-1])\n",
    "        curr = abs(target - nums[res])\n",
    "        if prev <= curr:\n",
    "            return nums[res-1]\n",
    "        else:\n",
    "            return nums[res]"
   ]
  },
  {
   "cell_type": "code",
   "execution_count": 42,
   "id": "39720b66-e88f-419a-affa-9d3d9a3efde6",
   "metadata": {},
   "outputs": [
    {
     "data": {
      "text/plain": [
       "10"
      ]
     },
     "execution_count": 42,
     "metadata": {},
     "output_type": "execute_result"
    }
   ],
   "source": [
    "nums=[4, 6, 10]\n",
    "target = 11\n",
    "\n",
    "min_diff(nums, target)"
   ]
  }
 ],
 "metadata": {
  "kernelspec": {
   "display_name": "Python 3 (ipykernel)",
   "language": "python",
   "name": "python3"
  },
  "language_info": {
   "codemirror_mode": {
    "name": "ipython",
    "version": 3
   },
   "file_extension": ".py",
   "mimetype": "text/x-python",
   "name": "python",
   "nbconvert_exporter": "python",
   "pygments_lexer": "ipython3",
   "version": "3.9.5"
  }
 },
 "nbformat": 4,
 "nbformat_minor": 5
}
