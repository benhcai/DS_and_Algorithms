{
 "cells": [
  {
   "cell_type": "code",
   "execution_count": 4,
   "id": "e28cf9a1-762e-4f4b-a221-8894332bc933",
   "metadata": {},
   "outputs": [],
   "source": [
    "def search(self, nums: List[int], target: int) -> int:\n",
    "    left = 0\n",
    "    right = len(nums) - 1\n",
    "    while left <= right:\n",
    "        mid = left + (right-left) // 2\n",
    "        if nums[mid] == target:\n",
    "            return mid\n",
    "        if target > nums[mid]:\n",
    "            left = mid + 1\n",
    "        else:\n",
    "            right = mid - 1\n",
    "    return -1"
   ]
  },
  {
   "cell_type": "code",
   "execution_count": 53,
   "id": "b5da42b6-a281-47ec-b9f4-811efa6d1f92",
   "metadata": {},
   "outputs": [],
   "source": [
    "from typing import List\n",
    "\n",
    "def search(nums: List[int], target: int) -> int:\n",
    "    left = 0\n",
    "    right = len(nums) - 1\n",
    "    mid = 0\n",
    "    while left < right:\n",
    "        mid = left + (right-left) // 2\n",
    "        if target > nums[mid]:\n",
    "            left = mid + 1\n",
    "        else:\n",
    "            right = mid\n",
    "        print('i', left, mid, right)\n",
    "\n",
    "    if nums[left] == target:\n",
    "        print('r', left, mid, right)\n",
    "        return left\n",
    "    return -1"
   ]
  },
  {
   "cell_type": "code",
   "execution_count": 52,
   "id": "8fbcedaf-562c-49c1-94f2-7a2538862896",
   "metadata": {},
   "outputs": [
    {
     "name": "stdout",
     "output_type": "stream",
     "text": [
      "i 0 1 1\n",
      "i 1 0 1\n"
     ]
    },
    {
     "data": {
      "text/plain": [
       "-1"
      ]
     },
     "execution_count": 52,
     "metadata": {},
     "output_type": "execute_result"
    }
   ],
   "source": [
    "nums = [1,2,3]\n",
    "target = 2\n",
    "search(nums, target)"
   ]
  }
 ],
 "metadata": {
  "kernelspec": {
   "display_name": "Python 3 (ipykernel)",
   "language": "python",
   "name": "python3"
  },
  "language_info": {
   "codemirror_mode": {
    "name": "ipython",
    "version": 3
   },
   "file_extension": ".py",
   "mimetype": "text/x-python",
   "name": "python",
   "nbconvert_exporter": "python",
   "pygments_lexer": "ipython3",
   "version": "3.10.5"
  }
 },
 "nbformat": 4,
 "nbformat_minor": 5
}
