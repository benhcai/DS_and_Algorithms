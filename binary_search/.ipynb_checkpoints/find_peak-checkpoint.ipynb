{
 "cells": [
  {
   "cell_type": "code",
   "execution_count": 7,
   "id": "374c85a4-a720-4d11-95c9-ccbdb830d9b4",
   "metadata": {},
   "outputs": [
    {
     "data": {
      "text/plain": [
       "2"
      ]
     },
     "execution_count": 7,
     "metadata": {},
     "output_type": "execute_result"
    }
   ],
   "source": [
    "def peak(nums):\n",
    "    left = 0\n",
    "    right = len(nums) - 1\n",
    "    res = -1\n",
    "    while left <= right:\n",
    "        mid = left + (right - left) // 2\n",
    "        if mid+1 < len(nums) and nums[mid] < nums[mid+1]:\n",
    "            left = mid + 1\n",
    "        else:\n",
    "            res = mid\n",
    "            right = mid - 1\n",
    "    return res\n",
    "    \n",
    "arr = [0,10,15,2,1]\n",
    "peak(arr)"
   ]
  }
 ],
 "metadata": {
  "kernelspec": {
   "display_name": "Python 3 (ipykernel)",
   "language": "python",
   "name": "python3"
  },
  "language_info": {
   "codemirror_mode": {
    "name": "ipython",
    "version": 3
   },
   "file_extension": ".py",
   "mimetype": "text/x-python",
   "name": "python",
   "nbconvert_exporter": "python",
   "pygments_lexer": "ipython3",
   "version": "3.9.5"
  }
 },
 "nbformat": 4,
 "nbformat_minor": 5
}
