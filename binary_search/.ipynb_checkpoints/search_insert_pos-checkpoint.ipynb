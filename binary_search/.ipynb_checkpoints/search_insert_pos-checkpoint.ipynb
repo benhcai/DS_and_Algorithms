{
 "cells": [
  {
   "cell_type": "code",
   "execution_count": 35,
   "id": "fcec4499-8a42-4cee-aa59-766bba8a8cba",
   "metadata": {},
   "outputs": [],
   "source": [
    "def insert_pos(nums, target):\n",
    "    left = 0\n",
    "    right = len(nums) - 1\n",
    "\n",
    "    if target < nums[0]:\n",
    "        return 0\n",
    "\n",
    "    if target > nums[-1]:\n",
    "        return len(nums)\n",
    "    \n",
    "    while left <= right:\n",
    "        mid = left + (right - left) // 2\n",
    "        if nums[mid] == target:\n",
    "            return mid\n",
    "        if nums[mid] < target:\n",
    "            left = mid + 1\n",
    "        else:\n",
    "            right = mid - 1\n",
    "            \n",
    "    if nums[left] > target:\n",
    "        return left\n",
    "    elif left + 1 < len(nums) and nums[left + 1] > target:\n",
    "        return left + 1"
   ]
  },
  {
   "cell_type": "code",
   "execution_count": 74,
   "id": "be289dbc-d522-45e3-b95b-0af1f93acf7f",
   "metadata": {},
   "outputs": [],
   "source": [
    "def insert_pos(nums, target):\n",
    "    left = 0\n",
    "    right = len(nums) - 1\n",
    "\n",
    "    while left < right:\n",
    "        mid = left + (right - left) // 2\n",
    "        if target > nums[mid]:\n",
    "            left = mid + 1\n",
    "        else:\n",
    "            right = mid\n",
    "    print(left)\n",
    "    if nums[left] == target:\n",
    "        return left\n",
    "    if target > nums[left]:\n",
    "        return len(nums)\n",
    "    return left"
   ]
  },
  {
   "cell_type": "code",
   "execution_count": 88,
   "id": "041246df-7e66-4847-84e1-625e3a961e11",
   "metadata": {},
   "outputs": [
    {
     "name": "stdout",
     "output_type": "stream",
     "text": [
      "0\n"
     ]
    },
    {
     "data": {
      "text/plain": [
       "0"
      ]
     },
     "execution_count": 88,
     "metadata": {},
     "output_type": "execute_result"
    }
   ],
   "source": [
    "nums = [1,3,5,6,7]\n",
    "target = 5\n",
    "nums = [0,3,5,7]\n",
    "target = -1\n",
    "\n",
    "insert_pos(nums, target)"
   ]
  }
 ],
 "metadata": {
  "kernelspec": {
   "display_name": "Python 3 (ipykernel)",
   "language": "python",
   "name": "python3"
  },
  "language_info": {
   "codemirror_mode": {
    "name": "ipython",
    "version": 3
   },
   "file_extension": ".py",
   "mimetype": "text/x-python",
   "name": "python",
   "nbconvert_exporter": "python",
   "pygments_lexer": "ipython3",
   "version": "3.10.5"
  }
 },
 "nbformat": 4,
 "nbformat_minor": 5
}
